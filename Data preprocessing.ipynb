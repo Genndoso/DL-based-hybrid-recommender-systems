{
 "cells": [
  {
   "cell_type": "code",
   "execution_count": 1,
   "id": "06396be5",
   "metadata": {},
   "outputs": [
    {
     "name": "stderr",
     "output_type": "stream",
     "text": [
      "C:\\Users\\Максимилиан\\AppData\\Local\\Temp\\ipykernel_1200\\4098367440.py:20: DeprecationWarning: Importing display from IPython.core.display is deprecated since IPython 7.14, please import from IPython display\n",
      "  from IPython.core.display import display, HTML, clear_output\n",
      "C:\\Users\\Максимилиан\\AppData\\Local\\Temp\\ipykernel_1200\\4098367440.py:20: DeprecationWarning: Importing clear_output from IPython.core.display is deprecated since IPython 7.14, please import from IPython display\n",
      "  from IPython.core.display import display, HTML, clear_output\n"
     ]
    },
    {
     "data": {
      "text/html": [
       "<style>.container { width:80% !important; }</style>"
      ],
      "text/plain": [
       "<IPython.core.display.HTML object>"
      ]
     },
     "metadata": {},
     "output_type": "display_data"
    },
    {
     "data": {
      "text/html": [
       "<style>.prompt { min-width:10ex !important; }</style>"
      ],
      "text/plain": [
       "<IPython.core.display.HTML object>"
      ]
     },
     "metadata": {},
     "output_type": "display_data"
    },
    {
     "data": {
      "text/html": [
       "<style>div#notebook { font-size:12px !important; }</style>"
      ],
      "text/plain": [
       "<IPython.core.display.HTML object>"
      ]
     },
     "metadata": {},
     "output_type": "display_data"
    }
   ],
   "source": [
    "import datetime\n",
    "import numpy as np\n",
    "\n",
    "from itertools import islice, cycle\n",
    "from more_itertools import pairwise\n",
    "\n",
    "import pandas as pd\n",
    "\n",
    "%matplotlib inline\n",
    "import matplotlib as mpl\n",
    "import matplotlib.pyplot as plt\n",
    "mpl.rc('axes', labelsize=14)\n",
    "mpl.rc('xtick', labelsize=12)\n",
    "mpl.rc('ytick', labelsize=12)\n",
    "\n",
    "import seaborn as sns\n",
    "sns.set(style='whitegrid')\n",
    "sns.set(rc={'figure.figsize':(17, 9)})\n",
    "\n",
    "from IPython.core.display import display, HTML, clear_output\n",
    "display(HTML('<style>.container { width:80% !important; }</style>'))\n",
    "display(HTML('<style>.prompt { min-width:10ex !important; }</style>'))\n",
    "display(HTML('<style>div#notebook { font-size:12px !important; }</style>'))\n",
    "\n",
    "from preprocessing import leave_last_out, transform_indices, reindex_data, generate_interactions_matrix, get_interaction_matrix\n",
    "from datetime import datetime\n",
    "from scipy.sparse import csr_matrix"
   ]
  },
  {
   "cell_type": "code",
   "execution_count": 2,
   "id": "c0b89910",
   "metadata": {},
   "outputs": [],
   "source": [
    "from sklearn.feature_extraction.text import TfidfVectorizer"
   ]
  },
  {
   "cell_type": "code",
   "execution_count": 3,
   "id": "d157c868",
   "metadata": {},
   "outputs": [],
   "source": [
    "users_df = pd.read_csv('./dataset/users_processed.csv')\n",
    "items_df = pd.read_csv('./dataset/items_processed.csv')\n",
    "interactions_df = pd.read_csv('./dataset/interactions_processed.csv', parse_dates=['last_watch_dt'])\n",
    "#submission = pd.read_csv('sample_submission.csv')"
   ]
  },
  {
   "cell_type": "markdown",
   "id": "5ce8b982",
   "metadata": {},
   "source": [
    "# User features preprocessing"
   ]
  },
  {
   "cell_type": "code",
   "execution_count": 4,
   "id": "7821bad7",
   "metadata": {},
   "outputs": [],
   "source": [
    "def ohe(features : list, df, items = False):\n",
    "    if items:\n",
    "        ohe_df = df.item_id\n",
    "    else:\n",
    "        ohe_df = df.user_id\n",
    "    for feat in features:\n",
    "        ohe_feat_df = pd.get_dummies(df[feat], prefix = feat)\n",
    "        ohe_df = pd.concat([ohe_df,ohe_feat_df],axis=1)\n",
    "    return ohe_df"
   ]
  },
  {
   "cell_type": "code",
   "execution_count": 5,
   "id": "40a07e86",
   "metadata": {},
   "outputs": [],
   "source": [
    "# One-hot encoding of cathegorical features\n",
    "user_cat_features = ['age','income','sex','kids_flg']\n",
    "\n",
    "user_ohe_df  =  ohe(user_cat_features,users_df)"
   ]
  },
  {
   "cell_type": "code",
   "execution_count": 85,
   "id": "143341a6",
   "metadata": {},
   "outputs": [
    {
     "data": {
      "text/plain": [
       "744288"
      ]
     },
     "execution_count": 85,
     "metadata": {},
     "output_type": "execute_result"
    }
   ],
   "source": [
    "interactions_df.user_id.nunique()"
   ]
  },
  {
   "cell_type": "code",
   "execution_count": 84,
   "id": "f17711d8",
   "metadata": {},
   "outputs": [
    {
     "data": {
      "text/plain": [
       "840197"
      ]
     },
     "execution_count": 84,
     "metadata": {},
     "output_type": "execute_result"
    }
   ],
   "source": [
    "user_ohe_df.user_id.nunique()"
   ]
  },
  {
   "cell_type": "markdown",
   "id": "d8719aa5",
   "metadata": {},
   "source": [
    "# Item features preprocessing"
   ]
  },
  {
   "cell_type": "code",
   "execution_count": 6,
   "id": "5d480b5a",
   "metadata": {},
   "outputs": [],
   "source": [
    "item_cat_feats = ['content_type','release_year_cat','for_kids','age_rating','studios','countries','directors']\n",
    "item_ohe_df = ohe(item_cat_feats,items_df, items = True)"
   ]
  },
  {
   "cell_type": "markdown",
   "id": "babc08aa",
   "metadata": {},
   "source": [
    "# Total preprocessing"
   ]
  },
  {
   "cell_type": "code",
   "execution_count": 229,
   "id": "b3a10fb2",
   "metadata": {},
   "outputs": [
    {
     "data": {
      "text/plain": [
       "14721"
      ]
     },
     "execution_count": 229,
     "metadata": {},
     "output_type": "execute_result"
    }
   ],
   "source": [
    "data_index_train['items'].shape[0]"
   ]
  },
  {
   "cell_type": "code",
   "execution_count": 230,
   "id": "835e2761",
   "metadata": {},
   "outputs": [],
   "source": [
    "def preprocessing(interactions_df, users_df_ohe, items_df_ohe, cold_users_split = 5, itemid = 'last_watch_dt'):\n",
    "    interactions_df = interactions_df[interactions_df.user_id.isin(users_df_ohe.user_id.unique())]\n",
    "    interactions_df['last_watch_dt_ts'] = interactions_df['last_watch_dt'].apply(lambda x: int(x.timestamp()))\n",
    "    num_interaction_pu = interactions_df.groupby('user_id')['item_id'].count().sort_values(ascending = False)\n",
    "    # get cold_users\n",
    "    cold_users = num_interaction_pu.loc[(num_interaction_pu < 5) & (num_interaction_pu > 2)].index\n",
    "    \n",
    "\n",
    "    # warm_users_history\n",
    "    warm_users_history = interactions_df[~interactions_df.user_id.isin(cold_users)]\n",
    "    \n",
    "    # cold_users_history\n",
    "    cold_users_history = interactions_df[interactions_df.user_id.isin(cold_users)]\n",
    "    \n",
    "    # standard scenario train/holdout split\n",
    "    training, holdout = leave_last_out(warm_users_history, userid='user_id', timeid=itemid)\n",
    "\n",
    "    train_val, data_index_train = transform_indices(training, 'user_id', 'item_id')\n",
    "    holdout_val = reindex_data(holdout, data_index_train, fields=\"items\") \n",
    "    \n",
    "    # cold_start_scenario train/holdout split\n",
    "    training, holdout = leave_last_out(cold_users_history, userid='user_id', timeid=itemid)\n",
    "\n",
    "    cu_val, data_index_cu = transform_indices(cold_users_history, 'user_id', 'item_id')\n",
    "    cu_holdout = reindex_data(holdout, data_index_cu, fields=\"items\") \n",
    "    \n",
    "    data_description = dict(\n",
    "    users = data_index_train['users'].name,\n",
    "    items = data_index_train['items'].name,\n",
    "    feedback = 'watched_pct',\n",
    "    n_users_train = len(data_index_train['users']),\n",
    "    n_items = data_index_train['items'].shape[0],   #interactions_df.item_id.nunique(),\n",
    "    user_features = csr_matrix(user_ohe_df[user_ohe_df.user_id.isin(data_index_train['users'])].values),\n",
    "    item_features = csr_matrix(item_ohe_df[item_ohe_df.item_id.isin(data_index_train['items'])].values),\n",
    "    holdout_standard = holdout_val,\n",
    "    holdout_cs = cu_holdout,\n",
    "    cold_start_test = cu_val,\n",
    "    )\n",
    "    \n",
    "    # get interactions matrix\n",
    "    train_matrix, iid_to_item_id, item_id_to_iid, uid_to_user_id, user_id_to_uid = \\\n",
    "        get_interaction_matrix(train_val, n_items = data_description['n_items'] )\n",
    "    \n",
    "    train_matrix_indices = dict(\n",
    "    iid_to_itemid = iid_to_item_id,\n",
    "    itemid_to_iid = item_id_to_iid,\n",
    "    uid_to_user_id = uid_to_user_id,\n",
    "    user_id_to_uid = user_id_to_uid)\n",
    "    \n",
    "    # cold users\n",
    "    cold_users_matrix, iid_to_item_id_cu, item_id_to_iid_cu, uid_to_user_id_cu, user_id_to_uid_cu = \\\n",
    "get_interaction_matrix(cold_users_history,n_items = data_description['n_items'])\n",
    "    \n",
    "    cold_start_matrix_indices = dict(\n",
    "    iid_to_itemid = iid_to_item_id_cu,\n",
    "    itemid_to_iid = item_id_to_iid_cu,\n",
    "    uid_to_user_id = uid_to_user_id_cu,\n",
    "    user_id_to_uid = user_id_to_uid_cu)\n",
    "    \n",
    "    \n",
    "    return train_val,data_description, train_matrix,train_matrix_indices, cold_users_matrix, cold_start_matrix_indices\n",
    "    "
   ]
  },
  {
   "cell_type": "code",
   "execution_count": 231,
   "id": "f11dd946",
   "metadata": {},
   "outputs": [],
   "source": [
    "train_val,data_description, train_matrix,train_matrix_indices, cold_users_matrix, cold_start_matrix_indices = \\\n",
    "preprocessing(interactions_df, user_ohe_df, item_ohe_df, cold_users_split = 5, itemid = 'last_watch_dt')"
   ]
  },
  {
   "cell_type": "markdown",
   "id": "b8320de3",
   "metadata": {},
   "source": [
    "# Interactions filtering"
   ]
  },
  {
   "cell_type": "markdown",
   "id": "07b43499",
   "metadata": {},
   "source": [
    "# Generate interaction matrix standard scenario"
   ]
  },
  {
   "cell_type": "markdown",
   "id": "943fe3fd",
   "metadata": {},
   "source": [
    "## LightFM "
   ]
  },
  {
   "cell_type": "code",
   "execution_count": 232,
   "id": "a4e0ff8d",
   "metadata": {},
   "outputs": [],
   "source": [
    "from src.baselines.LightFM.Lightfm import build_lfm_model,check_early_stop_config, train_lfm_epoch, lightfm_scoring"
   ]
  },
  {
   "cell_type": "code",
   "execution_count": 233,
   "id": "7cdc5bae",
   "metadata": {},
   "outputs": [],
   "source": [
    "lfm_config = dict(\n",
    "    no_components = 30,\n",
    "    loss = 'warp',\n",
    "    max_sampled = 3,\n",
    "    max_epochs = 100,\n",
    "    learning_schedule = 'adagrad',\n",
    "    user_alpha = 1e-3,\n",
    "    item_alpha = 1e-3,\n",
    ")\n"
   ]
  },
  {
   "cell_type": "code",
   "execution_count": 234,
   "id": "b535159c",
   "metadata": {},
   "outputs": [],
   "source": [
    "from lightfm import LightFM"
   ]
  },
  {
   "cell_type": "code",
   "execution_count": 235,
   "id": "37496684",
   "metadata": {},
   "outputs": [],
   "source": [
    "lfm = LightFM(\n",
    "        no_components=lfm_config['no_components'],\n",
    "        loss=lfm_config['loss'],\n",
    "        learning_schedule=lfm_config['learning_schedule'],\n",
    "        # learning_rate=\n",
    "        user_alpha=lfm_config['user_alpha'],\n",
    "        item_alpha=lfm_config['item_alpha'],\n",
    "        max_sampled=lfm_config['max_sampled'],\n",
    "        # random_state =\n",
    "    )"
   ]
  },
  {
   "cell_type": "code",
   "execution_count": 237,
   "id": "1b4a9b98",
   "metadata": {},
   "outputs": [
    {
     "name": "stderr",
     "output_type": "stream",
     "text": [
      "Epoch: 100%|█████████████████████████████████████████████████████████████████████████████| 2/2 [02:50<00:00, 85.26s/it]\n"
     ]
    },
    {
     "data": {
      "text/plain": [
       "<lightfm.lightfm.LightFM at 0x2b23d43bf40>"
      ]
     },
     "execution_count": 237,
     "metadata": {},
     "output_type": "execute_result"
    }
   ],
   "source": [
    "lfm.fit(train_matrix,\n",
    "        user_features=data_description['user_features'],\n",
    "        item_features=data_description['item_features'],\n",
    "        epochs=2,\n",
    "        verbose = True)"
   ]
  },
  {
   "cell_type": "code",
   "execution_count": 238,
   "id": "332e611e",
   "metadata": {},
   "outputs": [],
   "source": [
    "# standard scenario prediction"
   ]
  },
  {
   "cell_type": "code",
   "execution_count": 239,
   "id": "e410d34a",
   "metadata": {},
   "outputs": [],
   "source": [
    "topn = 20"
   ]
  },
  {
   "cell_type": "code",
   "execution_count": 254,
   "id": "3591cb12",
   "metadata": {},
   "outputs": [
    {
     "data": {
      "text/plain": [
       "array([ 9506,  1659,  7107, ..., 13019, 14843, 10542])"
      ]
     },
     "execution_count": 254,
     "metadata": {},
     "output_type": "execute_result"
    }
   ],
   "source": [
    "test_items"
   ]
  },
  {
   "cell_type": "code",
   "execution_count": 262,
   "id": "7fee15bd",
   "metadata": {},
   "outputs": [
    {
     "data": {
      "text/plain": [
       "362088"
      ]
     },
     "execution_count": 262,
     "metadata": {},
     "output_type": "execute_result"
    }
   ],
   "source": [
    "data_description['n_users_train']"
   ]
  },
  {
   "cell_type": "code",
   "execution_count": 269,
   "id": "30988e50",
   "metadata": {},
   "outputs": [],
   "source": [
    "dtype = 'i4'\n",
    "all_users = np.arange(data_description['n_users_train'], dtype=dtype)\n",
    "test_items = data_index_train['items'].astype(dtype)\n",
    "item_index, user_index = np.meshgrid(test_items, all_users, copy=False)\n",
    "all_items = np.arange(data_description['n_items'], dtype=dtype)"
   ]
  },
  {
   "cell_type": "code",
   "execution_count": 271,
   "id": "9df5d714",
   "metadata": {},
   "outputs": [],
   "source": [
    "def topn_recommendations(scores, topn=10):\n",
    "    recommendations = np.apply_along_axis(topidx, 1, scores, topn)\n",
    "    return recommendations\n",
    "\n",
    "\n",
    "def topidx(a, topn):\n",
    "    parted = np.argpartition(a, -topn)[-topn:]\n",
    "    return parted[np.argsort(-a[parted])]"
   ]
  },
  {
   "cell_type": "code",
   "execution_count": 279,
   "id": "5f165643",
   "metadata": {},
   "outputs": [],
   "source": [
    "score = lfm.predict(user_index[0].ravel(),item_ids = all_items.ravel(), \n",
    "             user_features=data_description['user_features'],\n",
    "             item_features=data_description['item_features'],\n",
    "             num_threads = 4)"
   ]
  },
  {
   "cell_type": "code",
   "execution_count": null,
   "id": "bd5203d2",
   "metadata": {},
   "outputs": [
    {
     "name": "stdout",
     "output_type": "stream",
     "text": [
      "0\n",
      "1000\n",
      "2000\n",
      "3000\n",
      "4000\n",
      "5000\n",
      "6000\n",
      "7000\n",
      "8000\n",
      "9000\n",
      "10000\n",
      "11000\n",
      "12000\n",
      "13000\n",
      "14000\n",
      "15000\n",
      "16000\n",
      "17000\n",
      "18000\n",
      "19000\n",
      "20000\n",
      "21000\n",
      "22000\n",
      "23000\n",
      "24000\n",
      "25000\n",
      "26000\n",
      "27000\n",
      "28000\n",
      "29000\n",
      "30000\n",
      "31000\n",
      "32000\n",
      "33000\n",
      "34000\n",
      "35000\n",
      "36000\n",
      "37000\n",
      "38000\n",
      "39000\n",
      "40000\n",
      "41000\n",
      "42000\n",
      "43000\n",
      "44000\n",
      "45000\n",
      "46000\n",
      "47000\n",
      "48000\n",
      "49000\n",
      "50000\n",
      "51000\n",
      "52000\n",
      "53000\n",
      "54000\n",
      "55000\n",
      "56000\n",
      "57000\n",
      "58000\n",
      "59000\n",
      "60000\n",
      "61000\n",
      "62000\n",
      "63000\n",
      "64000\n",
      "65000\n",
      "66000\n",
      "67000\n",
      "68000\n",
      "69000\n",
      "70000\n",
      "71000\n",
      "72000\n",
      "73000\n",
      "74000\n",
      "75000\n",
      "76000\n",
      "77000\n",
      "78000\n",
      "79000\n",
      "80000\n",
      "81000\n",
      "82000\n",
      "83000\n",
      "84000\n",
      "85000\n",
      "86000\n",
      "87000\n",
      "88000\n",
      "89000\n",
      "90000\n",
      "91000\n",
      "92000\n",
      "93000\n",
      "94000\n",
      "95000\n",
      "96000\n",
      "97000\n",
      "98000\n",
      "99000\n",
      "100000\n",
      "101000\n",
      "102000\n",
      "103000\n",
      "104000\n",
      "105000\n",
      "106000\n",
      "107000\n",
      "108000\n",
      "109000\n",
      "110000\n",
      "111000\n",
      "112000\n",
      "113000\n",
      "114000\n",
      "115000\n",
      "116000\n",
      "117000\n",
      "118000\n",
      "119000\n",
      "120000\n",
      "121000\n",
      "122000\n",
      "123000\n",
      "124000\n",
      "125000\n",
      "126000\n",
      "127000\n",
      "128000\n",
      "129000\n",
      "130000\n",
      "131000\n",
      "132000\n",
      "133000\n",
      "134000\n",
      "135000\n",
      "136000\n",
      "137000\n",
      "138000\n",
      "139000\n",
      "140000\n",
      "141000\n",
      "142000\n",
      "143000\n",
      "144000\n",
      "145000\n",
      "146000\n",
      "147000\n",
      "148000\n",
      "149000\n",
      "150000\n",
      "151000\n",
      "152000\n",
      "153000\n",
      "154000\n",
      "155000\n",
      "156000\n",
      "157000\n",
      "158000\n",
      "159000\n",
      "160000\n",
      "161000\n",
      "162000\n",
      "163000\n",
      "164000\n",
      "165000\n",
      "166000\n",
      "167000\n",
      "168000\n",
      "169000\n",
      "170000\n",
      "171000\n",
      "172000\n",
      "173000\n",
      "174000\n",
      "175000\n",
      "176000\n",
      "177000\n",
      "178000\n",
      "179000\n",
      "180000\n",
      "181000\n",
      "182000\n",
      "183000\n",
      "184000\n",
      "185000\n",
      "186000\n",
      "187000\n",
      "188000\n",
      "189000\n",
      "190000\n",
      "191000\n",
      "192000\n",
      "193000\n",
      "194000\n",
      "195000\n",
      "196000\n",
      "197000\n",
      "198000\n",
      "199000\n",
      "200000\n",
      "201000\n",
      "202000\n",
      "203000\n",
      "204000\n",
      "205000\n",
      "206000\n",
      "207000\n",
      "208000\n",
      "209000\n",
      "210000\n",
      "211000\n",
      "212000\n",
      "213000\n",
      "214000\n",
      "215000\n",
      "216000\n",
      "217000\n",
      "218000\n",
      "219000\n",
      "220000\n",
      "221000\n",
      "222000\n",
      "223000\n",
      "224000\n",
      "225000\n",
      "226000\n",
      "227000\n",
      "228000\n",
      "229000\n",
      "230000\n",
      "231000\n",
      "232000\n",
      "233000\n",
      "234000\n",
      "235000\n",
      "236000\n",
      "237000\n",
      "238000\n",
      "239000\n",
      "240000\n",
      "241000\n",
      "242000\n",
      "243000\n",
      "244000\n",
      "245000\n",
      "246000\n",
      "247000\n",
      "248000\n",
      "249000\n",
      "250000\n",
      "251000\n",
      "252000\n",
      "253000\n",
      "254000\n",
      "255000\n",
      "256000\n",
      "257000\n",
      "258000\n",
      "259000\n",
      "260000\n",
      "261000\n",
      "262000\n"
     ]
    }
   ],
   "source": [
    "\n",
    "preds = np.zeros((all_users.shape[0],topn))\n",
    "\n",
    "for i in range(len(all_users)):\n",
    "    if i % 1000 == 0:\n",
    "        print(i)\n",
    "    score = lfm.predict(user_index[0].ravel(),item_ids = all_items.ravel(), \n",
    "             user_features=data_description['user_features'],\n",
    "             item_features=data_description['item_features'],\n",
    "             num_threads = 4)\n",
    "    scores = np.expand_dims(score,axis=0)\n",
    "    scores_topn = topn_recommendations(scores,topn)\n",
    "    preds[i,:] = scores_topn"
   ]
  },
  {
   "cell_type": "code",
   "execution_count": null,
   "id": "af023f9a",
   "metadata": {},
   "outputs": [],
   "source": []
  },
  {
   "cell_type": "code",
   "execution_count": null,
   "id": "e2a525e4",
   "metadata": {},
   "outputs": [],
   "source": []
  },
  {
   "cell_type": "code",
   "execution_count": null,
   "id": "d16db4b8",
   "metadata": {},
   "outputs": [],
   "source": []
  },
  {
   "cell_type": "markdown",
   "id": "fddd5ece",
   "metadata": {},
   "source": [
    "# HybridSVD"
   ]
  },
  {
   "cell_type": "code",
   "execution_count": null,
   "id": "a5dec680",
   "metadata": {},
   "outputs": [],
   "source": []
  }
 ],
 "metadata": {
  "kernelspec": {
   "display_name": "Python 3 (ipykernel)",
   "language": "python",
   "name": "python3"
  },
  "language_info": {
   "codemirror_mode": {
    "name": "ipython",
    "version": 3
   },
   "file_extension": ".py",
   "mimetype": "text/x-python",
   "name": "python",
   "nbconvert_exporter": "python",
   "pygments_lexer": "ipython3",
   "version": "3.9.13"
  }
 },
 "nbformat": 4,
 "nbformat_minor": 5
}
