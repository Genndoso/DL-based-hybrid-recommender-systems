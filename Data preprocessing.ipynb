{
 "cells": [
  {
   "cell_type": "code",
   "execution_count": 1,
   "id": "f1622d32",
   "metadata": {},
   "outputs": [
    {
     "name": "stderr",
     "output_type": "stream",
     "text": [
      "C:\\Users\\Максимилиан\\AppData\\Local\\Temp\\ipykernel_20572\\2976666109.py:20: DeprecationWarning: Importing display from IPython.core.display is deprecated since IPython 7.14, please import from IPython display\n",
      "  from IPython.core.display import display, HTML, clear_output\n",
      "C:\\Users\\Максимилиан\\AppData\\Local\\Temp\\ipykernel_20572\\2976666109.py:20: DeprecationWarning: Importing clear_output from IPython.core.display is deprecated since IPython 7.14, please import from IPython display\n",
      "  from IPython.core.display import display, HTML, clear_output\n"
     ]
    },
    {
     "data": {
      "text/html": [
       "<style>.container { width:80% !important; }</style>"
      ],
      "text/plain": [
       "<IPython.core.display.HTML object>"
      ]
     },
     "metadata": {},
     "output_type": "display_data"
    },
    {
     "data": {
      "text/html": [
       "<style>.prompt { min-width:10ex !important; }</style>"
      ],
      "text/plain": [
       "<IPython.core.display.HTML object>"
      ]
     },
     "metadata": {},
     "output_type": "display_data"
    },
    {
     "data": {
      "text/html": [
       "<style>div#notebook { font-size:12px !important; }</style>"
      ],
      "text/plain": [
       "<IPython.core.display.HTML object>"
      ]
     },
     "metadata": {},
     "output_type": "display_data"
    }
   ],
   "source": [
    "import datetime\n",
    "import numpy as np\n",
    "\n",
    "from itertools import islice, cycle\n",
    "from more_itertools import pairwise\n",
    "\n",
    "import pandas as pd\n",
    "\n",
    "%matplotlib inline\n",
    "import matplotlib as mpl\n",
    "import matplotlib.pyplot as plt\n",
    "mpl.rc('axes', labelsize=14)\n",
    "mpl.rc('xtick', labelsize=12)\n",
    "mpl.rc('ytick', labelsize=12)\n",
    "\n",
    "import seaborn as sns\n",
    "sns.set(style='whitegrid')\n",
    "sns.set(rc={'figure.figsize':(17, 9)})\n",
    "\n",
    "from IPython.core.display import display, HTML, clear_output\n",
    "display(HTML('<style>.container { width:80% !important; }</style>'))\n",
    "display(HTML('<style>.prompt { min-width:10ex !important; }</style>'))\n",
    "display(HTML('<style>div#notebook { font-size:12px !important; }</style>'))\n",
    "\n",
    "from preprocessing import leave_last_out, transform_indices, reindex_data, generate_interactions_matrix\n",
    "from datetime import datetime"
   ]
  },
  {
   "cell_type": "code",
   "execution_count": 2,
   "id": "0b82facb",
   "metadata": {},
   "outputs": [],
   "source": [
    "from sklearn.feature_extraction.text import TfidfVectorizer"
   ]
  },
  {
   "cell_type": "code",
   "execution_count": 3,
   "id": "b57b698f",
   "metadata": {},
   "outputs": [],
   "source": [
    "users_df = pd.read_csv('./dataset/users_processed.csv')\n",
    "items_df = pd.read_csv('./dataset/items_processed.csv')\n",
    "interactions_df = pd.read_csv('./dataset/interactions_processed.csv', parse_dates=['last_watch_dt'])\n",
    "#submission = pd.read_csv('sample_submission.csv')"
   ]
  },
  {
   "cell_type": "markdown",
   "id": "86836c4b",
   "metadata": {},
   "source": [
    "# User features preprocessing"
   ]
  },
  {
   "cell_type": "code",
   "execution_count": 4,
   "id": "dc690360",
   "metadata": {},
   "outputs": [],
   "source": [
    "def ohe(features : list, df, items = False):\n",
    "    if items:\n",
    "        ohe_df = df.item_id\n",
    "    else:\n",
    "        ohe_df = df.user_id\n",
    "    for feat in features:\n",
    "        ohe_feat_df = pd.get_dummies(df[feat], prefix = feat)\n",
    "        ohe_df = pd.concat([ohe_df,ohe_feat_df],axis=1)\n",
    "    return ohe_df"
   ]
  },
  {
   "cell_type": "code",
   "execution_count": 5,
   "id": "3fadfdf5",
   "metadata": {},
   "outputs": [],
   "source": [
    "# One-hot encoding of cathegorical features\n",
    "user_cat_features = ['age','income','sex','kids_flg']\n",
    "\n",
    "\n",
    "user_ohe_df  =  ohe(user_cat_features,users_df)"
   ]
  },
  {
   "cell_type": "markdown",
   "id": "ae75a2f1",
   "metadata": {},
   "source": [
    "# Item features preprocessing"
   ]
  },
  {
   "cell_type": "code",
   "execution_count": 6,
   "id": "a321dff2",
   "metadata": {},
   "outputs": [],
   "source": [
    "item_cat_feats = ['content_type','release_year_cat','for_kids','age_rating','studios','countries','directors']\n",
    "item_ohe_df = ohe(item_cat_feats,items_df, items = True)"
   ]
  },
  {
   "cell_type": "markdown",
   "id": "95cfbd0c",
   "metadata": {},
   "source": [
    "# Interactions filtering"
   ]
  },
  {
   "cell_type": "code",
   "execution_count": 7,
   "id": "525e1c6e",
   "metadata": {},
   "outputs": [],
   "source": [
    "interactions_df['last_watch_dt'] = interactions_df['last_watch_dt'].apply(lambda x: int(x.timestamp()))"
   ]
  },
  {
   "cell_type": "code",
   "execution_count": 8,
   "id": "ecb3bf3f",
   "metadata": {},
   "outputs": [],
   "source": [
    "num_interaction_pu = interactions_df.groupby('user_id')['item_id'].count().sort_values(ascending = False)"
   ]
  },
  {
   "cell_type": "code",
   "execution_count": 9,
   "id": "7a900aa6",
   "metadata": {},
   "outputs": [],
   "source": [
    "cold_users = num_interaction_pu[num_interaction_pu < 2].index"
   ]
  },
  {
   "cell_type": "code",
   "execution_count": 10,
   "id": "b214280b",
   "metadata": {},
   "outputs": [],
   "source": [
    "warm_users_history = interactions_df[~interactions_df.user_id.isin(cold_users)]"
   ]
  },
  {
   "cell_type": "code",
   "execution_count": 11,
   "id": "2fee0d8d",
   "metadata": {},
   "outputs": [
    {
     "data": {
      "text/html": [
       "<div>\n",
       "<style scoped>\n",
       "    .dataframe tbody tr th:only-of-type {\n",
       "        vertical-align: middle;\n",
       "    }\n",
       "\n",
       "    .dataframe tbody tr th {\n",
       "        vertical-align: top;\n",
       "    }\n",
       "\n",
       "    .dataframe thead th {\n",
       "        text-align: right;\n",
       "    }\n",
       "</style>\n",
       "<table border=\"1\" class=\"dataframe\">\n",
       "  <thead>\n",
       "    <tr style=\"text-align: right;\">\n",
       "      <th></th>\n",
       "      <th>user_id</th>\n",
       "      <th>item_id</th>\n",
       "      <th>last_watch_dt</th>\n",
       "      <th>total_dur</th>\n",
       "      <th>watched_pct</th>\n",
       "    </tr>\n",
       "  </thead>\n",
       "  <tbody>\n",
       "    <tr>\n",
       "      <th>0</th>\n",
       "      <td>176549</td>\n",
       "      <td>9506</td>\n",
       "      <td>1620691200</td>\n",
       "      <td>4250</td>\n",
       "      <td>72</td>\n",
       "    </tr>\n",
       "    <tr>\n",
       "      <th>1</th>\n",
       "      <td>699317</td>\n",
       "      <td>1659</td>\n",
       "      <td>1622246400</td>\n",
       "      <td>8317</td>\n",
       "      <td>100</td>\n",
       "    </tr>\n",
       "    <tr>\n",
       "      <th>2</th>\n",
       "      <td>656683</td>\n",
       "      <td>7107</td>\n",
       "      <td>1620518400</td>\n",
       "      <td>10</td>\n",
       "      <td>0</td>\n",
       "    </tr>\n",
       "    <tr>\n",
       "      <th>3</th>\n",
       "      <td>864613</td>\n",
       "      <td>7638</td>\n",
       "      <td>1625443200</td>\n",
       "      <td>14483</td>\n",
       "      <td>100</td>\n",
       "    </tr>\n",
       "    <tr>\n",
       "      <th>4</th>\n",
       "      <td>964868</td>\n",
       "      <td>9506</td>\n",
       "      <td>1619740800</td>\n",
       "      <td>6725</td>\n",
       "      <td>100</td>\n",
       "    </tr>\n",
       "    <tr>\n",
       "      <th>...</th>\n",
       "      <td>...</td>\n",
       "      <td>...</td>\n",
       "      <td>...</td>\n",
       "      <td>...</td>\n",
       "      <td>...</td>\n",
       "    </tr>\n",
       "    <tr>\n",
       "      <th>5476244</th>\n",
       "      <td>438585</td>\n",
       "      <td>7829</td>\n",
       "      <td>1627862400</td>\n",
       "      <td>6804</td>\n",
       "      <td>100</td>\n",
       "    </tr>\n",
       "    <tr>\n",
       "      <th>5476245</th>\n",
       "      <td>786732</td>\n",
       "      <td>4880</td>\n",
       "      <td>1620777600</td>\n",
       "      <td>753</td>\n",
       "      <td>0</td>\n",
       "    </tr>\n",
       "    <tr>\n",
       "      <th>5476247</th>\n",
       "      <td>546862</td>\n",
       "      <td>9673</td>\n",
       "      <td>1618272000</td>\n",
       "      <td>2308</td>\n",
       "      <td>49</td>\n",
       "    </tr>\n",
       "    <tr>\n",
       "      <th>5476249</th>\n",
       "      <td>384202</td>\n",
       "      <td>16197</td>\n",
       "      <td>1618790400</td>\n",
       "      <td>6203</td>\n",
       "      <td>100</td>\n",
       "    </tr>\n",
       "    <tr>\n",
       "      <th>5476250</th>\n",
       "      <td>319709</td>\n",
       "      <td>4436</td>\n",
       "      <td>1628985600</td>\n",
       "      <td>3921</td>\n",
       "      <td>45</td>\n",
       "    </tr>\n",
       "  </tbody>\n",
       "</table>\n",
       "<p>5121088 rows × 5 columns</p>\n",
       "</div>"
      ],
      "text/plain": [
       "         user_id  item_id  last_watch_dt  total_dur  watched_pct\n",
       "0         176549     9506     1620691200       4250           72\n",
       "1         699317     1659     1622246400       8317          100\n",
       "2         656683     7107     1620518400         10            0\n",
       "3         864613     7638     1625443200      14483          100\n",
       "4         964868     9506     1619740800       6725          100\n",
       "...          ...      ...            ...        ...          ...\n",
       "5476244   438585     7829     1627862400       6804          100\n",
       "5476245   786732     4880     1620777600        753            0\n",
       "5476247   546862     9673     1618272000       2308           49\n",
       "5476249   384202    16197     1618790400       6203          100\n",
       "5476250   319709     4436     1628985600       3921           45\n",
       "\n",
       "[5121088 rows x 5 columns]"
      ]
     },
     "execution_count": 11,
     "metadata": {},
     "output_type": "execute_result"
    }
   ],
   "source": [
    "warm_users_history"
   ]
  },
  {
   "cell_type": "code",
   "execution_count": 12,
   "id": "7e877252",
   "metadata": {},
   "outputs": [],
   "source": [
    "cold_users_history = interactions_df[interactions_df.user_id.isin(cold_users)]"
   ]
  },
  {
   "cell_type": "code",
   "execution_count": 13,
   "id": "986c80d8",
   "metadata": {},
   "outputs": [
    {
     "data": {
      "text/html": [
       "<div>\n",
       "<style scoped>\n",
       "    .dataframe tbody tr th:only-of-type {\n",
       "        vertical-align: middle;\n",
       "    }\n",
       "\n",
       "    .dataframe tbody tr th {\n",
       "        vertical-align: top;\n",
       "    }\n",
       "\n",
       "    .dataframe thead th {\n",
       "        text-align: right;\n",
       "    }\n",
       "</style>\n",
       "<table border=\"1\" class=\"dataframe\">\n",
       "  <thead>\n",
       "    <tr style=\"text-align: right;\">\n",
       "      <th></th>\n",
       "      <th>user_id</th>\n",
       "      <th>item_id</th>\n",
       "      <th>last_watch_dt</th>\n",
       "      <th>total_dur</th>\n",
       "      <th>watched_pct</th>\n",
       "    </tr>\n",
       "  </thead>\n",
       "  <tbody>\n",
       "    <tr>\n",
       "      <th>10</th>\n",
       "      <td>791466</td>\n",
       "      <td>8199</td>\n",
       "      <td>1627344000</td>\n",
       "      <td>713</td>\n",
       "      <td>9</td>\n",
       "    </tr>\n",
       "    <tr>\n",
       "      <th>26</th>\n",
       "      <td>181144</td>\n",
       "      <td>10440</td>\n",
       "      <td>1628380800</td>\n",
       "      <td>27408</td>\n",
       "      <td>40</td>\n",
       "    </tr>\n",
       "    <tr>\n",
       "      <th>37</th>\n",
       "      <td>161176</td>\n",
       "      <td>10440</td>\n",
       "      <td>1627516800</td>\n",
       "      <td>22</td>\n",
       "      <td>0</td>\n",
       "    </tr>\n",
       "    <tr>\n",
       "      <th>38</th>\n",
       "      <td>21723</td>\n",
       "      <td>1819</td>\n",
       "      <td>1618099200</td>\n",
       "      <td>8535</td>\n",
       "      <td>100</td>\n",
       "    </tr>\n",
       "    <tr>\n",
       "      <th>60</th>\n",
       "      <td>77216</td>\n",
       "      <td>8143</td>\n",
       "      <td>1620432000</td>\n",
       "      <td>660</td>\n",
       "      <td>11</td>\n",
       "    </tr>\n",
       "    <tr>\n",
       "      <th>...</th>\n",
       "      <td>...</td>\n",
       "      <td>...</td>\n",
       "      <td>...</td>\n",
       "      <td>...</td>\n",
       "      <td>...</td>\n",
       "    </tr>\n",
       "    <tr>\n",
       "      <th>5476222</th>\n",
       "      <td>1007900</td>\n",
       "      <td>9728</td>\n",
       "      <td>1628726400</td>\n",
       "      <td>416</td>\n",
       "      <td>6</td>\n",
       "    </tr>\n",
       "    <tr>\n",
       "      <th>5476225</th>\n",
       "      <td>882138</td>\n",
       "      <td>4716</td>\n",
       "      <td>1621555200</td>\n",
       "      <td>1594</td>\n",
       "      <td>2</td>\n",
       "    </tr>\n",
       "    <tr>\n",
       "      <th>5476238</th>\n",
       "      <td>805174</td>\n",
       "      <td>13125</td>\n",
       "      <td>1624752000</td>\n",
       "      <td>1</td>\n",
       "      <td>0</td>\n",
       "    </tr>\n",
       "    <tr>\n",
       "      <th>5476246</th>\n",
       "      <td>648596</td>\n",
       "      <td>12225</td>\n",
       "      <td>1628812800</td>\n",
       "      <td>76</td>\n",
       "      <td>0</td>\n",
       "    </tr>\n",
       "    <tr>\n",
       "      <th>5476248</th>\n",
       "      <td>697262</td>\n",
       "      <td>15297</td>\n",
       "      <td>1629417600</td>\n",
       "      <td>18307</td>\n",
       "      <td>63</td>\n",
       "    </tr>\n",
       "  </tbody>\n",
       "</table>\n",
       "<p>355163 rows × 5 columns</p>\n",
       "</div>"
      ],
      "text/plain": [
       "         user_id  item_id  last_watch_dt  total_dur  watched_pct\n",
       "10        791466     8199     1627344000        713            9\n",
       "26        181144    10440     1628380800      27408           40\n",
       "37        161176    10440     1627516800         22            0\n",
       "38         21723     1819     1618099200       8535          100\n",
       "60         77216     8143     1620432000        660           11\n",
       "...          ...      ...            ...        ...          ...\n",
       "5476222  1007900     9728     1628726400        416            6\n",
       "5476225   882138     4716     1621555200       1594            2\n",
       "5476238   805174    13125     1624752000          1            0\n",
       "5476246   648596    12225     1628812800         76            0\n",
       "5476248   697262    15297     1629417600      18307           63\n",
       "\n",
       "[355163 rows x 5 columns]"
      ]
     },
     "execution_count": 13,
     "metadata": {},
     "output_type": "execute_result"
    }
   ],
   "source": [
    "cold_users_history"
   ]
  },
  {
   "cell_type": "code",
   "execution_count": 14,
   "id": "ff3bc287",
   "metadata": {},
   "outputs": [],
   "source": [
    "training, holdout = leave_last_out(warm_users_history, userid='user_id', timeid='last_watch_dt')"
   ]
  },
  {
   "cell_type": "code",
   "execution_count": 15,
   "id": "05f04f27",
   "metadata": {},
   "outputs": [],
   "source": [
    "train_val, data_index = transform_indices(training, 'user_id', 'item_id')\n",
    "holdout_val = reindex_data(holdout, data_index, fields=\"items\") "
   ]
  },
  {
   "cell_type": "markdown",
   "id": "91a70333",
   "metadata": {},
   "source": [
    "# generate interaction matrix"
   ]
  },
  {
   "cell_type": "code",
   "execution_count": 16,
   "id": "abbb3b71",
   "metadata": {},
   "outputs": [
    {
     "data": {
      "text/html": [
       "<div>\n",
       "<style scoped>\n",
       "    .dataframe tbody tr th:only-of-type {\n",
       "        vertical-align: middle;\n",
       "    }\n",
       "\n",
       "    .dataframe tbody tr th {\n",
       "        vertical-align: top;\n",
       "    }\n",
       "\n",
       "    .dataframe thead th {\n",
       "        text-align: right;\n",
       "    }\n",
       "</style>\n",
       "<table border=\"1\" class=\"dataframe\">\n",
       "  <thead>\n",
       "    <tr style=\"text-align: right;\">\n",
       "      <th></th>\n",
       "      <th>user_id</th>\n",
       "      <th>item_id</th>\n",
       "      <th>last_watch_dt</th>\n",
       "      <th>total_dur</th>\n",
       "      <th>watched_pct</th>\n",
       "    </tr>\n",
       "  </thead>\n",
       "  <tbody>\n",
       "    <tr>\n",
       "      <th>0</th>\n",
       "      <td>97578</td>\n",
       "      <td>8939</td>\n",
       "      <td>1620691200</td>\n",
       "      <td>4250</td>\n",
       "      <td>72</td>\n",
       "    </tr>\n",
       "    <tr>\n",
       "      <th>1</th>\n",
       "      <td>386502</td>\n",
       "      <td>1563</td>\n",
       "      <td>1622246400</td>\n",
       "      <td>8317</td>\n",
       "      <td>100</td>\n",
       "    </tr>\n",
       "    <tr>\n",
       "      <th>2</th>\n",
       "      <td>362969</td>\n",
       "      <td>6683</td>\n",
       "      <td>1620518400</td>\n",
       "      <td>10</td>\n",
       "      <td>0</td>\n",
       "    </tr>\n",
       "    <tr>\n",
       "      <th>3</th>\n",
       "      <td>478343</td>\n",
       "      <td>7184</td>\n",
       "      <td>1625443200</td>\n",
       "      <td>14483</td>\n",
       "      <td>100</td>\n",
       "    </tr>\n",
       "    <tr>\n",
       "      <th>4</th>\n",
       "      <td>533634</td>\n",
       "      <td>8939</td>\n",
       "      <td>1619740800</td>\n",
       "      <td>6725</td>\n",
       "      <td>100</td>\n",
       "    </tr>\n",
       "    <tr>\n",
       "      <th>...</th>\n",
       "      <td>...</td>\n",
       "      <td>...</td>\n",
       "      <td>...</td>\n",
       "      <td>...</td>\n",
       "      <td>...</td>\n",
       "    </tr>\n",
       "    <tr>\n",
       "      <th>5476244</th>\n",
       "      <td>242535</td>\n",
       "      <td>7364</td>\n",
       "      <td>1627862400</td>\n",
       "      <td>6804</td>\n",
       "      <td>100</td>\n",
       "    </tr>\n",
       "    <tr>\n",
       "      <th>5476245</th>\n",
       "      <td>434911</td>\n",
       "      <td>4600</td>\n",
       "      <td>1620777600</td>\n",
       "      <td>753</td>\n",
       "      <td>0</td>\n",
       "    </tr>\n",
       "    <tr>\n",
       "      <th>5476247</th>\n",
       "      <td>302267</td>\n",
       "      <td>9096</td>\n",
       "      <td>1618272000</td>\n",
       "      <td>2308</td>\n",
       "      <td>49</td>\n",
       "    </tr>\n",
       "    <tr>\n",
       "      <th>5476249</th>\n",
       "      <td>212377</td>\n",
       "      <td>15241</td>\n",
       "      <td>1618790400</td>\n",
       "      <td>6203</td>\n",
       "      <td>100</td>\n",
       "    </tr>\n",
       "    <tr>\n",
       "      <th>5476250</th>\n",
       "      <td>176824</td>\n",
       "      <td>4181</td>\n",
       "      <td>1628985600</td>\n",
       "      <td>3921</td>\n",
       "      <td>45</td>\n",
       "    </tr>\n",
       "  </tbody>\n",
       "</table>\n",
       "<p>4514072 rows × 5 columns</p>\n",
       "</div>"
      ],
      "text/plain": [
       "         user_id  item_id  last_watch_dt  total_dur  watched_pct\n",
       "0          97578     8939     1620691200       4250           72\n",
       "1         386502     1563     1622246400       8317          100\n",
       "2         362969     6683     1620518400         10            0\n",
       "3         478343     7184     1625443200      14483          100\n",
       "4         533634     8939     1619740800       6725          100\n",
       "...          ...      ...            ...        ...          ...\n",
       "5476244   242535     7364     1627862400       6804          100\n",
       "5476245   434911     4600     1620777600        753            0\n",
       "5476247   302267     9096     1618272000       2308           49\n",
       "5476249   212377    15241     1618790400       6203          100\n",
       "5476250   176824     4181     1628985600       3921           45\n",
       "\n",
       "[4514072 rows x 5 columns]"
      ]
     },
     "execution_count": 16,
     "metadata": {},
     "output_type": "execute_result"
    }
   ],
   "source": [
    "train_val"
   ]
  },
  {
   "cell_type": "code",
   "execution_count": 17,
   "id": "d4c63942",
   "metadata": {},
   "outputs": [],
   "source": [
    "data_description = dict(\n",
    "    users = data_index['users'].name,\n",
    "    items = data_index['items'].name,\n",
    "    feedback = 'watched_pct',\n",
    "    n_users = len(data_index['users']),\n",
    "    n_items = len(data_index['items']),\n",
    "    \n",
    ")"
   ]
  },
  {
   "cell_type": "code",
   "execution_count": 18,
   "id": "17cf8382",
   "metadata": {},
   "outputs": [],
   "source": [
    "train_matrix = generate_interactions_matrix(train_val, data_description, rebase_users = False)"
   ]
  },
  {
   "cell_type": "code",
   "execution_count": null,
   "id": "f885ea90",
   "metadata": {},
   "outputs": [],
   "source": []
  }
 ],
 "metadata": {
  "kernelspec": {
   "display_name": "Python 3 (ipykernel)",
   "language": "python",
   "name": "python3"
  },
  "language_info": {
   "codemirror_mode": {
    "name": "ipython",
    "version": 3
   },
   "file_extension": ".py",
   "mimetype": "text/x-python",
   "name": "python",
   "nbconvert_exporter": "python",
   "pygments_lexer": "ipython3",
   "version": "3.9.13"
  }
 },
 "nbformat": 4,
 "nbformat_minor": 5
}
