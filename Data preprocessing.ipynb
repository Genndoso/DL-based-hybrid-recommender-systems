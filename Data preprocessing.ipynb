{
 "cells": [
  {
   "cell_type": "code",
   "execution_count": 1,
   "id": "f5297417",
   "metadata": {},
   "outputs": [
    {
     "name": "stderr",
     "output_type": "stream",
     "text": [
      "C:\\Users\\Максимилиан\\AppData\\Local\\Temp\\ipykernel_24260\\4098367440.py:20: DeprecationWarning: Importing display from IPython.core.display is deprecated since IPython 7.14, please import from IPython display\n",
      "  from IPython.core.display import display, HTML, clear_output\n",
      "C:\\Users\\Максимилиан\\AppData\\Local\\Temp\\ipykernel_24260\\4098367440.py:20: DeprecationWarning: Importing clear_output from IPython.core.display is deprecated since IPython 7.14, please import from IPython display\n",
      "  from IPython.core.display import display, HTML, clear_output\n"
     ]
    },
    {
     "data": {
      "text/html": [
       "<style>.container { width:80% !important; }</style>"
      ],
      "text/plain": [
       "<IPython.core.display.HTML object>"
      ]
     },
     "metadata": {},
     "output_type": "display_data"
    },
    {
     "data": {
      "text/html": [
       "<style>.prompt { min-width:10ex !important; }</style>"
      ],
      "text/plain": [
       "<IPython.core.display.HTML object>"
      ]
     },
     "metadata": {},
     "output_type": "display_data"
    },
    {
     "data": {
      "text/html": [
       "<style>div#notebook { font-size:12px !important; }</style>"
      ],
      "text/plain": [
       "<IPython.core.display.HTML object>"
      ]
     },
     "metadata": {},
     "output_type": "display_data"
    }
   ],
   "source": [
    "import datetime\n",
    "import numpy as np\n",
    "\n",
    "from itertools import islice, cycle\n",
    "from more_itertools import pairwise\n",
    "\n",
    "import pandas as pd\n",
    "\n",
    "%matplotlib inline\n",
    "import matplotlib as mpl\n",
    "import matplotlib.pyplot as plt\n",
    "mpl.rc('axes', labelsize=14)\n",
    "mpl.rc('xtick', labelsize=12)\n",
    "mpl.rc('ytick', labelsize=12)\n",
    "\n",
    "import seaborn as sns\n",
    "sns.set(style='whitegrid')\n",
    "sns.set(rc={'figure.figsize':(17, 9)})\n",
    "\n",
    "from IPython.core.display import display, HTML, clear_output\n",
    "display(HTML('<style>.container { width:80% !important; }</style>'))\n",
    "display(HTML('<style>.prompt { min-width:10ex !important; }</style>'))\n",
    "display(HTML('<style>div#notebook { font-size:12px !important; }</style>'))\n",
    "\n",
    "from preprocessing import leave_last_out, transform_indices, reindex_data, generate_interactions_matrix, get_interaction_matrix\n",
    "from datetime import datetime\n",
    "from scipy.sparse import csr_matrix"
   ]
  },
  {
   "cell_type": "code",
   "execution_count": 2,
   "id": "e59a32ad",
   "metadata": {},
   "outputs": [],
   "source": [
    "from sklearn.feature_extraction.text import TfidfVectorizer"
   ]
  },
  {
   "cell_type": "code",
   "execution_count": 3,
   "id": "f1bba7b0",
   "metadata": {},
   "outputs": [],
   "source": [
    "users_df = pd.read_csv('./dataset/users_processed.csv')\n",
    "items_df = pd.read_csv('./dataset/items_processed.csv')\n",
    "interactions_df = pd.read_csv('./dataset/interactions_processed.csv', parse_dates=['last_watch_dt'])\n",
    "#submission = pd.read_csv('sample_submission.csv')"
   ]
  },
  {
   "cell_type": "markdown",
   "id": "f240c873",
   "metadata": {},
   "source": [
    "# User features preprocessing"
   ]
  },
  {
   "cell_type": "code",
   "execution_count": 4,
   "id": "e3677da9",
   "metadata": {},
   "outputs": [],
   "source": [
    "def ohe(features : list, df, items = False):\n",
    "    if items:\n",
    "        ohe_df = df.item_id\n",
    "    else:\n",
    "        ohe_df = df.user_id\n",
    "    for feat in features:\n",
    "        ohe_feat_df = pd.get_dummies(df[feat], prefix = feat)\n",
    "        ohe_df = pd.concat([ohe_df,ohe_feat_df],axis=1)\n",
    "    return ohe_df"
   ]
  },
  {
   "cell_type": "code",
   "execution_count": 56,
   "id": "608359bf",
   "metadata": {},
   "outputs": [],
   "source": [
    "# One-hot encoding of cathegorical features\n",
    "user_cat_features = ['age','income','sex','kids_flg']\n",
    "\n",
    "user_ohe_df  =  ohe(user_cat_features,users_df) #.drop(columns='user_id')"
   ]
  },
  {
   "cell_type": "markdown",
   "id": "d58fb89d",
   "metadata": {},
   "source": [
    "# Item features preprocessing"
   ]
  },
  {
   "cell_type": "code",
   "execution_count": 57,
   "id": "1d8039cd",
   "metadata": {},
   "outputs": [],
   "source": [
    "item_cat_feats = ['content_type','release_year_cat','for_kids','age_rating','studios','countries','directors']\n",
    "item_ohe_df = ohe(item_cat_feats,items_df, items = True) #.drop(columns='item_id')"
   ]
  },
  {
   "cell_type": "markdown",
   "id": "f383395a",
   "metadata": {},
   "source": [
    "# Total preprocessing"
   ]
  },
  {
   "cell_type": "code",
   "execution_count": 60,
   "id": "bfb95d67",
   "metadata": {},
   "outputs": [],
   "source": [
    "def preprocessing(interactions_df, users_df_ohe, items_df_ohe, cold_users_split = 5, itemid = 'last_watch_dt'):\n",
    "    interactions_df = interactions_df[interactions_df.user_id.isin(users_df_ohe.user_id.unique())]\n",
    "    interactions_df['last_watch_dt_ts'] = interactions_df['last_watch_dt'].apply(lambda x: int(x.timestamp()))\n",
    "    num_interaction_pu = interactions_df.groupby('user_id')['item_id'].count().sort_values(ascending = False)\n",
    "    # get cold_users\n",
    "    cold_users = num_interaction_pu.loc[(num_interaction_pu < 5) & (num_interaction_pu > 2)].index\n",
    "    \n",
    "\n",
    "    # warm_users_history\n",
    "    warm_users_history = interactions_df[~interactions_df.user_id.isin(cold_users)]\n",
    "    \n",
    "    # cold_users_history\n",
    "    cold_users_history = interactions_df[interactions_df.user_id.isin(cold_users)]\n",
    "    \n",
    "    # standard scenario train/holdout split\n",
    "    training, holdout = leave_last_out(warm_users_history, userid='user_id', timeid=itemid)\n",
    "\n",
    "    train_val, data_index_train = transform_indices(training, 'user_id', 'item_id')\n",
    "    holdout_val = reindex_data(holdout, data_index_train, fields=\"items\") \n",
    "    \n",
    "    # cold_start_scenario train/holdout split\n",
    "    training, holdout = leave_last_out(cold_users_history, userid='user_id', timeid=itemid)\n",
    "\n",
    "    cu_val, data_index_cu = transform_indices(cold_users_history, 'user_id', 'item_id')\n",
    "    cu_holdout = reindex_data(holdout, data_index_cu, fields=\"items\") \n",
    "    \n",
    "    data_description = dict(\n",
    "    users = data_index_train['users'].name,\n",
    "    items = data_index_train['items'].name,\n",
    "    feedback = 'watched_pct',\n",
    "    n_users_train = len(data_index_train['users']),\n",
    "    n_items = data_index_train['items'].shape[0],   #interactions_df.item_id.nunique(),\n",
    "    user_features = csr_matrix(user_ohe_df[user_ohe_df.user_id.isin(data_index_train['users'])].drop(columns='user_id').values),\n",
    "    item_features = csr_matrix(item_ohe_df[item_ohe_df.item_id.isin(data_index_train['items'])].drop(columns='item_id').values),\n",
    "    holdout_standard = holdout_val,\n",
    "    holdout_cs = cu_holdout,\n",
    "    cold_start_test = cu_val,\n",
    "    )\n",
    "    \n",
    "    # get interactions matrix\n",
    "    train_matrix, iid_to_item_id, item_id_to_iid, uid_to_user_id, user_id_to_uid = \\\n",
    "        get_interaction_matrix(train_val, n_items = data_description['n_items'] )\n",
    "    \n",
    "    train_matrix_indices = dict(\n",
    "    iid_to_itemid = iid_to_item_id,\n",
    "    itemid_to_iid = item_id_to_iid,\n",
    "    uid_to_user_id = uid_to_user_id,\n",
    "    user_id_to_uid = user_id_to_uid)\n",
    "    \n",
    "    # cold users\n",
    "    cold_users_matrix, iid_to_item_id_cu, item_id_to_iid_cu, uid_to_user_id_cu, user_id_to_uid_cu = \\\n",
    "get_interaction_matrix(cold_users_history,n_items = data_description['n_items'])\n",
    "    \n",
    "    cold_start_matrix_indices = dict(\n",
    "    iid_to_itemid = iid_to_item_id_cu,\n",
    "    itemid_to_iid = item_id_to_iid_cu,\n",
    "    uid_to_user_id = uid_to_user_id_cu,\n",
    "    user_id_to_uid = user_id_to_uid_cu)\n",
    "    \n",
    "    \n",
    "    return train_val,data_description, train_matrix,train_matrix_indices, cold_users_matrix, cold_start_matrix_indices\n",
    "    "
   ]
  },
  {
   "cell_type": "code",
   "execution_count": 61,
   "id": "4013d0ed",
   "metadata": {},
   "outputs": [
    {
     "name": "stderr",
     "output_type": "stream",
     "text": [
      "C:\\Users\\Максимилиан\\AppData\\Local\\Temp\\ipykernel_24260\\1435709166.py:3: SettingWithCopyWarning: \n",
      "A value is trying to be set on a copy of a slice from a DataFrame.\n",
      "Try using .loc[row_indexer,col_indexer] = value instead\n",
      "\n",
      "See the caveats in the documentation: https://pandas.pydata.org/pandas-docs/stable/user_guide/indexing.html#returning-a-view-versus-a-copy\n",
      "  interactions_df['last_watch_dt_ts'] = interactions_df['last_watch_dt'].apply(lambda x: int(x.timestamp()))\n",
      "C:\\Users\\Максимилиан\\Desktop\\Skoltech\\Intro to RecSys\\FP\\preprocessing.py:213: SettingWithCopyWarning: \n",
      "A value is trying to be set on a copy of a slice from a DataFrame.\n",
      "Try using .loc[row_indexer,col_indexer] = value instead\n",
      "\n",
      "See the caveats in the documentation: https://pandas.pydata.org/pandas-docs/stable/user_guide/indexing.html#returning-a-view-versus-a-copy\n",
      "  data['uid'] = data[userid].astype('category')\n",
      "C:\\Users\\Максимилиан\\Desktop\\Skoltech\\Intro to RecSys\\FP\\preprocessing.py:214: SettingWithCopyWarning: \n",
      "A value is trying to be set on a copy of a slice from a DataFrame.\n",
      "Try using .loc[row_indexer,col_indexer] = value instead\n",
      "\n",
      "See the caveats in the documentation: https://pandas.pydata.org/pandas-docs/stable/user_guide/indexing.html#returning-a-view-versus-a-copy\n",
      "  data['uid'] = data['uid'].cat.codes\n",
      "C:\\Users\\Максимилиан\\Desktop\\Skoltech\\Intro to RecSys\\FP\\preprocessing.py:216: SettingWithCopyWarning: \n",
      "A value is trying to be set on a copy of a slice from a DataFrame.\n",
      "Try using .loc[row_indexer,col_indexer] = value instead\n",
      "\n",
      "See the caveats in the documentation: https://pandas.pydata.org/pandas-docs/stable/user_guide/indexing.html#returning-a-view-versus-a-copy\n",
      "  data['iid'] = data[itemid].astype('category')\n",
      "C:\\Users\\Максимилиан\\Desktop\\Skoltech\\Intro to RecSys\\FP\\preprocessing.py:217: SettingWithCopyWarning: \n",
      "A value is trying to be set on a copy of a slice from a DataFrame.\n",
      "Try using .loc[row_indexer,col_indexer] = value instead\n",
      "\n",
      "See the caveats in the documentation: https://pandas.pydata.org/pandas-docs/stable/user_guide/indexing.html#returning-a-view-versus-a-copy\n",
      "  data['iid'] = data['iid'].cat.codes\n"
     ]
    }
   ],
   "source": [
    "train_val,data_description, train_matrix,train_matrix_indices, cold_users_matrix, cold_start_matrix_indices = \\\n",
    "preprocessing(interactions_df, user_ohe_df, item_ohe_df, cold_users_split = 5, itemid = 'last_watch_dt')"
   ]
  },
  {
   "cell_type": "markdown",
   "id": "f84564e4",
   "metadata": {},
   "source": [
    "# Interactions filtering"
   ]
  },
  {
   "cell_type": "markdown",
   "id": "97673804",
   "metadata": {},
   "source": [
    "# Generate interaction matrix standard scenario"
   ]
  },
  {
   "cell_type": "markdown",
   "id": "9beb4ae3",
   "metadata": {},
   "source": [
    "## LightFM "
   ]
  },
  {
   "cell_type": "code",
   "execution_count": 65,
   "id": "758fb9b6",
   "metadata": {},
   "outputs": [],
   "source": [
    "from src.baselines.LightFM.Lightfm import build_lfm_model, lightfm_scoring"
   ]
  },
  {
   "cell_type": "code",
   "execution_count": 66,
   "id": "7b1712b9",
   "metadata": {},
   "outputs": [],
   "source": [
    "lfm_config = dict(\n",
    "    no_components = 30,\n",
    "    loss = 'warp',\n",
    "    max_sampled = 3,\n",
    "    max_epochs = 100,\n",
    "    learning_schedule = 'adagrad',\n",
    "    user_alpha = 1e-3,\n",
    "    item_alpha = 1e-3,\n",
    ")\n"
   ]
  },
  {
   "cell_type": "code",
   "execution_count": 67,
   "id": "29f07503",
   "metadata": {},
   "outputs": [],
   "source": [
    "from lightfm import LightFM"
   ]
  },
  {
   "cell_type": "code",
   "execution_count": 68,
   "id": "b7825175",
   "metadata": {},
   "outputs": [],
   "source": [
    "lfm = LightFM(\n",
    "        no_components=lfm_config['no_components'],\n",
    "        loss=lfm_config['loss'],\n",
    "        learning_schedule=lfm_config['learning_schedule'],\n",
    "        # learning_rate=\n",
    "        user_alpha=lfm_config['user_alpha'],\n",
    "        item_alpha=lfm_config['item_alpha'],\n",
    "        max_sampled=lfm_config['max_sampled'],\n",
    "        # random_state =\n",
    "    )"
   ]
  },
  {
   "cell_type": "code",
   "execution_count": 98,
   "id": "840e0cff",
   "metadata": {},
   "outputs": [
    {
     "name": "stderr",
     "output_type": "stream",
     "text": [
      "Epoch: 100%|██████████████████████████████████████████████████████████████████████████| 20/20 [38:35<00:00, 115.78s/it]\n"
     ]
    },
    {
     "data": {
      "text/plain": [
       "<lightfm.lightfm.LightFM at 0x1b39308d640>"
      ]
     },
     "execution_count": 98,
     "metadata": {},
     "output_type": "execute_result"
    }
   ],
   "source": [
    "lfm.fit(train_matrix,\n",
    "        user_features=data_description['user_features'],\n",
    "        item_features=data_description['item_features'],\n",
    "        epochs=20,\n",
    "        verbose = True)"
   ]
  },
  {
   "cell_type": "code",
   "execution_count": 99,
   "id": "4cf79e55",
   "metadata": {},
   "outputs": [],
   "source": [
    "# standard scenario prediction"
   ]
  },
  {
   "cell_type": "code",
   "execution_count": 100,
   "id": "a5f0f449",
   "metadata": {},
   "outputs": [],
   "source": [
    "topn = 20"
   ]
  },
  {
   "cell_type": "code",
   "execution_count": 101,
   "id": "d84dc64e",
   "metadata": {},
   "outputs": [],
   "source": [
    "dtype = 'i4'\n",
    "all_users = np.arange(data_description['n_users_train'], dtype=dtype)\n",
    "test_items = np.arange(data_description['n_items']).astype(dtype)\n",
    "item_index, user_index = np.meshgrid(test_items, all_users, copy=False)\n",
    "all_items = np.arange(data_description['n_items'], dtype=dtype)"
   ]
  },
  {
   "cell_type": "code",
   "execution_count": 102,
   "id": "4b809cb2",
   "metadata": {},
   "outputs": [],
   "source": [
    "def topn_recommendations(scores, topn=10):\n",
    "    recommendations = np.apply_along_axis(topidx, 1, scores, topn)\n",
    "    return recommendations\n",
    "\n",
    "\n",
    "def topidx(a, topn):\n",
    "    parted = np.argpartition(a, -topn)[-topn:]\n",
    "    return parted[np.argsort(-a[parted])]"
   ]
  },
  {
   "cell_type": "code",
   "execution_count": 103,
   "id": "41247d60",
   "metadata": {},
   "outputs": [],
   "source": [
    "score = lfm.predict(user_index[105].ravel(),item_ids = all_items.ravel(), \n",
    "             user_features=data_description['user_features'],\n",
    "             item_features=data_description['item_features'],\n",
    "             num_threads = 4)"
   ]
  },
  {
   "cell_type": "code",
   "execution_count": 104,
   "id": "cb5ca830",
   "metadata": {},
   "outputs": [],
   "source": [
    "scores = np.expand_dims(score,axis=0)\n",
    "scores_topn = topn_recommendations(scores,topn)"
   ]
  },
  {
   "cell_type": "code",
   "execution_count": 105,
   "id": "2c4aa332",
   "metadata": {},
   "outputs": [
    {
     "data": {
      "text/plain": [
       "array([[14633, 13283,  9307,  3748, 13639,  3337,   128,  8684,  2181,\n",
       "         6753, 10023, 12367,  4401,   752, 12871,  3712, 10852,  3872,\n",
       "        10869, 14286]], dtype=int64)"
      ]
     },
     "execution_count": 105,
     "metadata": {},
     "output_type": "execute_result"
    }
   ],
   "source": [
    "scores_topn"
   ]
  },
  {
   "cell_type": "code",
   "execution_count": 106,
   "id": "1ce6cb1d",
   "metadata": {},
   "outputs": [
    {
     "data": {
      "text/plain": [
       "array([[14633, 13283,  9307,  3748, 13639,  3337,   128,  8684,  2181,\n",
       "         6753, 10023, 12367,  4401,   752, 12871,  3712, 10852,  3872,\n",
       "        10869, 14286]], dtype=int64)"
      ]
     },
     "execution_count": 106,
     "metadata": {},
     "output_type": "execute_result"
    }
   ],
   "source": [
    "scores_topn"
   ]
  },
  {
   "cell_type": "code",
   "execution_count": null,
   "id": "6e3d4675",
   "metadata": {},
   "outputs": [
    {
     "name": "stdout",
     "output_type": "stream",
     "text": [
      "0\n",
      "1000\n",
      "2000\n",
      "3000\n",
      "4000\n",
      "5000\n",
      "6000\n",
      "7000\n",
      "8000\n",
      "9000\n",
      "10000\n",
      "11000\n",
      "12000\n",
      "13000\n",
      "14000\n",
      "15000\n",
      "16000\n",
      "17000\n",
      "18000\n",
      "19000\n",
      "20000\n",
      "21000\n",
      "22000\n",
      "23000\n",
      "24000\n",
      "25000\n",
      "26000\n",
      "27000\n",
      "28000\n",
      "29000\n",
      "30000\n",
      "31000\n",
      "32000\n",
      "33000\n",
      "34000\n",
      "35000\n",
      "36000\n",
      "37000\n",
      "38000\n",
      "39000\n",
      "40000\n",
      "41000\n",
      "42000\n",
      "43000\n",
      "44000\n",
      "45000\n",
      "46000\n",
      "47000\n",
      "48000\n",
      "49000\n",
      "50000\n",
      "51000\n",
      "52000\n",
      "53000\n",
      "54000\n",
      "55000\n",
      "56000\n",
      "57000\n",
      "58000\n",
      "59000\n",
      "60000\n",
      "61000\n",
      "62000\n",
      "63000\n",
      "64000\n",
      "65000\n",
      "66000\n",
      "67000\n",
      "68000\n",
      "69000\n",
      "70000\n",
      "71000\n",
      "72000\n",
      "73000\n",
      "74000\n",
      "75000\n",
      "76000\n",
      "77000\n",
      "78000\n",
      "79000\n",
      "80000\n",
      "81000\n",
      "82000\n",
      "83000\n",
      "84000\n",
      "85000\n",
      "86000\n",
      "87000\n",
      "88000\n",
      "89000\n",
      "90000\n",
      "91000\n",
      "92000\n",
      "93000\n",
      "94000\n",
      "95000\n",
      "96000\n",
      "97000\n",
      "98000\n",
      "99000\n",
      "100000\n",
      "101000\n",
      "102000\n",
      "103000\n",
      "104000\n",
      "105000\n",
      "106000\n",
      "107000\n",
      "108000\n",
      "109000\n",
      "110000\n",
      "111000\n",
      "112000\n",
      "113000\n",
      "114000\n",
      "115000\n",
      "116000\n",
      "117000\n",
      "118000\n",
      "119000\n",
      "120000\n",
      "121000\n",
      "122000\n",
      "123000\n",
      "124000\n",
      "125000\n",
      "126000\n",
      "127000\n",
      "128000\n",
      "129000\n",
      "130000\n",
      "131000\n",
      "132000\n",
      "133000\n",
      "134000\n",
      "135000\n",
      "136000\n",
      "137000\n",
      "138000\n",
      "139000\n",
      "140000\n",
      "141000\n",
      "142000\n",
      "143000\n",
      "144000\n",
      "145000\n",
      "146000\n",
      "147000\n",
      "148000\n",
      "149000\n",
      "150000\n",
      "151000\n",
      "152000\n",
      "153000\n",
      "154000\n",
      "155000\n",
      "156000\n",
      "157000\n",
      "158000\n",
      "159000\n",
      "160000\n",
      "161000\n",
      "162000\n",
      "163000\n",
      "164000\n",
      "165000\n",
      "166000\n",
      "167000\n",
      "168000\n",
      "169000\n",
      "170000\n",
      "171000\n",
      "172000\n",
      "173000\n",
      "174000\n",
      "175000\n",
      "176000\n",
      "177000\n",
      "178000\n",
      "179000\n",
      "180000\n",
      "181000\n",
      "182000\n",
      "183000\n",
      "184000\n",
      "185000\n",
      "186000\n",
      "187000\n",
      "188000\n",
      "189000\n",
      "190000\n",
      "191000\n",
      "192000\n",
      "193000\n",
      "194000\n",
      "195000\n",
      "196000\n",
      "197000\n",
      "198000\n",
      "199000\n",
      "200000\n",
      "201000\n",
      "202000\n",
      "203000\n",
      "204000\n",
      "205000\n",
      "206000\n",
      "207000\n",
      "208000\n",
      "209000\n",
      "210000\n",
      "211000\n",
      "212000\n",
      "213000\n",
      "214000\n",
      "215000\n",
      "216000\n",
      "217000\n",
      "218000\n",
      "219000\n",
      "220000\n",
      "221000\n",
      "222000\n",
      "223000\n",
      "224000\n",
      "225000\n",
      "226000\n",
      "227000\n",
      "228000\n",
      "229000\n",
      "230000\n",
      "231000\n",
      "232000\n",
      "233000\n",
      "234000\n",
      "235000\n",
      "236000\n",
      "237000\n",
      "238000\n",
      "239000\n",
      "240000\n",
      "241000\n",
      "242000\n",
      "243000\n",
      "244000\n",
      "245000\n",
      "246000\n",
      "247000\n",
      "248000\n",
      "249000\n",
      "250000\n",
      "251000\n",
      "252000\n",
      "253000\n",
      "254000\n",
      "255000\n",
      "256000\n",
      "257000\n",
      "258000\n",
      "259000\n",
      "260000\n",
      "261000\n",
      "262000\n",
      "263000\n",
      "264000\n",
      "265000\n",
      "266000\n",
      "267000\n",
      "268000\n",
      "269000\n",
      "270000\n",
      "271000\n",
      "272000\n",
      "273000\n",
      "274000\n",
      "275000\n",
      "276000\n",
      "277000\n",
      "278000\n",
      "279000\n",
      "280000\n",
      "281000\n",
      "282000\n",
      "283000\n",
      "284000\n",
      "285000\n",
      "286000\n",
      "287000\n",
      "288000\n",
      "289000\n",
      "290000\n",
      "291000\n",
      "292000\n",
      "293000\n",
      "294000\n",
      "295000\n",
      "296000\n",
      "297000\n",
      "298000\n",
      "299000\n",
      "300000\n",
      "301000\n",
      "302000\n",
      "303000\n",
      "304000\n",
      "305000\n",
      "306000\n",
      "307000\n"
     ]
    }
   ],
   "source": [
    "\n",
    "preds = np.zeros((all_users.shape[0],topn))\n",
    "\n",
    "for i in range(len(all_users)):\n",
    "    if i % 1000 == 0:\n",
    "        print(i)\n",
    "    score = lfm.predict(user_index[i].ravel(),item_ids = all_items.ravel(), \n",
    "             user_features=data_description['user_features'],\n",
    "             item_features=data_description['item_features'],\n",
    "             num_threads = 4)\n",
    "    scores = np.expand_dims(score,axis=0)\n",
    "    scores_topn = topn_recommendations(scores,topn)\n",
    "    preds[i,:] = scores_topn"
   ]
  },
  {
   "cell_type": "code",
   "execution_count": null,
   "id": "e7f0b81e",
   "metadata": {},
   "outputs": [],
   "source": []
  },
  {
   "cell_type": "markdown",
   "id": "d53ca8f0",
   "metadata": {},
   "source": [
    "# HybridSVD"
   ]
  },
  {
   "cell_type": "code",
   "execution_count": null,
   "id": "9baddcde",
   "metadata": {},
   "outputs": [],
   "source": [
    "d = 0.5 # off-diagonal similarity factor\n",
    "\n",
    "# s item similarity matrix\n",
    "\n",
    "L = np.linalg.cholesky(s)\n",
    "\n",
    "u2,s2,v2 = np.linalg.svd(a.dot(L), full_matrices = False)\n",
    "\n",
    "v2 = v2.T[:,:rank]\n",
    "\n",
    "# preparing for hybrid folding-in calculation\n",
    "\n",
    "lv = L.dot(v2)\n",
    "\n",
    "rv = spsolve_triangular(csr_matrix(L.T),v2, lower = False)\n",
    "\n",
    "recs2 = p.dot(lv).dot(rv.T)\n",
    "\n",
    "recs2"
   ]
  }
 ],
 "metadata": {
  "kernelspec": {
   "display_name": "Python 3 (ipykernel)",
   "language": "python",
   "name": "python3"
  },
  "language_info": {
   "codemirror_mode": {
    "name": "ipython",
    "version": 3
   },
   "file_extension": ".py",
   "mimetype": "text/x-python",
   "name": "python",
   "nbconvert_exporter": "python",
   "pygments_lexer": "ipython3",
   "version": "3.9.13"
  }
 },
 "nbformat": 4,
 "nbformat_minor": 5
}
