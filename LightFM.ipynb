{
 "cells": [
  {
   "cell_type": "code",
   "execution_count": 1,
   "id": "a78c929d",
   "metadata": {},
   "outputs": [
    {
     "name": "stderr",
     "output_type": "stream",
     "text": [
      "C:\\Users\\Максимилиан\\AppData\\Local\\Temp\\ipykernel_10972\\1525839755.py:3: DeprecationWarning: Importing display from IPython.core.display is deprecated since IPython 7.14, please import from IPython display\n",
      "  from IPython.core.display import display, HTML, clear_output\n",
      "C:\\Users\\Максимилиан\\AppData\\Local\\Temp\\ipykernel_10972\\1525839755.py:3: DeprecationWarning: Importing clear_output from IPython.core.display is deprecated since IPython 7.14, please import from IPython display\n",
      "  from IPython.core.display import display, HTML, clear_output\n"
     ]
    },
    {
     "data": {
      "text/html": [
       "<style>.container { width:80% !important; }</style>"
      ],
      "text/plain": [
       "<IPython.core.display.HTML object>"
      ]
     },
     "metadata": {},
     "output_type": "display_data"
    },
    {
     "data": {
      "text/html": [
       "<style>.prompt { min-width:10ex !important; }</style>"
      ],
      "text/plain": [
       "<IPython.core.display.HTML object>"
      ]
     },
     "metadata": {},
     "output_type": "display_data"
    },
    {
     "data": {
      "text/html": [
       "<style>div#notebook { font-size:12px !important; }</style>"
      ],
      "text/plain": [
       "<IPython.core.display.HTML object>"
      ]
     },
     "metadata": {},
     "output_type": "display_data"
    },
    {
     "name": "stderr",
     "output_type": "stream",
     "text": [
      "C:\\Users\\Максимилиан\\AppData\\Roaming\\Python\\Python39\\site-packages\\lightfm\\_lightfm_fast.py:9: UserWarning: LightFM was compiled without OpenMP support. Only a single thread will be used.\n",
      "  warnings.warn(\n"
     ]
    }
   ],
   "source": [
    "import numpy as np\n",
    "import pandas as pd\n",
    "from IPython.core.display import display, HTML, clear_output\n",
    "display(HTML('<style>.container { width:80% !important; }</style>'))\n",
    "display(HTML('<style>.prompt { min-width:10ex !important; }</style>'))\n",
    "display(HTML('<style>div#notebook { font-size:12px !important; }</style>'))\n",
    "\n",
    "from preprocessing import leave_last_out, transform_indices, preprocessing,\\\n",
    "reindex_data, generate_interactions_matrix, get_interaction_matrix\n",
    "from datetime import datetime\n",
    "from scipy.sparse import csr_matrix\n",
    "from preproc_deep_fm import load_csv\n",
    "from src.baselines.LightFM.Lightfm import build_lfm_model, lightfm_scoring\n",
    "from lightfm import LightFM\n",
    "import pickle\n",
    "from evaluation import topn_recommendations"
   ]
  },
  {
   "cell_type": "code",
   "execution_count": 2,
   "id": "ce67ec69",
   "metadata": {},
   "outputs": [],
   "source": [
    "user_df = pd.read_csv('./dataset/users_processed.csv')\n",
    "item_df = pd.read_csv('./dataset/items_processed.csv')\n",
    "interaction_df = pd.read_csv('./dataset/interactions_processed.csv', parse_dates=['last_watch_dt'])\n",
    "#submission = pd.read_csv('sample_submission.csv')"
   ]
  },
  {
   "cell_type": "code",
   "execution_count": 3,
   "id": "0b7d0b54",
   "metadata": {},
   "outputs": [],
   "source": [
    "def ohe(features : list, df, items = False):\n",
    "    if items:\n",
    "        ohe_df = df.item_id\n",
    "    else:\n",
    "        ohe_df = df.user_id\n",
    "    for feat in features:\n",
    "        ohe_feat_df = pd.get_dummies(df[feat], prefix = feat)\n",
    "        ohe_df = pd.concat([ohe_df,ohe_feat_df],axis=1)\n",
    "    return ohe_df"
   ]
  },
  {
   "cell_type": "code",
   "execution_count": 4,
   "id": "a53fde34",
   "metadata": {},
   "outputs": [],
   "source": [
    "# One-hot encoding of cathegorical features\n",
    "user_cat_features = ['age','income','sex','kids_flg']\n",
    "\n",
    "user_ohe_df  =  ohe(user_cat_features,user_df) #.drop(columns='user_id')\n",
    "\n",
    "item_cat_feats = ['content_type','release_year_cat','for_kids','age_rating','studios','countries','directors']\n",
    "item_ohe_df = ohe(item_cat_feats,item_df, items = True) #.drop(columns='item_id')"
   ]
  },
  {
   "cell_type": "code",
   "execution_count": 5,
   "id": "604878d7",
   "metadata": {},
   "outputs": [
    {
     "name": "stderr",
     "output_type": "stream",
     "text": [
      "C:\\Users\\Максимилиан\\Desktop\\Skoltech\\Intro to RecSys\\FP\\preprocessing.py:7: SettingWithCopyWarning: \n",
      "A value is trying to be set on a copy of a slice from a DataFrame.\n",
      "Try using .loc[row_indexer,col_indexer] = value instead\n",
      "\n",
      "See the caveats in the documentation: https://pandas.pydata.org/pandas-docs/stable/user_guide/indexing.html#returning-a-view-versus-a-copy\n",
      "  interactions_df['last_watch_dt_ts'] = interactions_df['last_watch_dt'].apply(lambda x: int(x.timestamp()))\n",
      "C:\\Users\\Максимилиан\\Desktop\\Skoltech\\Intro to RecSys\\FP\\preprocessing.py:207: SettingWithCopyWarning: \n",
      "A value is trying to be set on a copy of a slice from a DataFrame.\n",
      "Try using .loc[row_indexer,col_indexer] = value instead\n",
      "\n",
      "See the caveats in the documentation: https://pandas.pydata.org/pandas-docs/stable/user_guide/indexing.html#returning-a-view-versus-a-copy\n",
      "  data['uid'] = data[userid].astype('category')\n",
      "C:\\Users\\Максимилиан\\Desktop\\Skoltech\\Intro to RecSys\\FP\\preprocessing.py:208: SettingWithCopyWarning: \n",
      "A value is trying to be set on a copy of a slice from a DataFrame.\n",
      "Try using .loc[row_indexer,col_indexer] = value instead\n",
      "\n",
      "See the caveats in the documentation: https://pandas.pydata.org/pandas-docs/stable/user_guide/indexing.html#returning-a-view-versus-a-copy\n",
      "  data['uid'] = data['uid'].cat.codes\n",
      "C:\\Users\\Максимилиан\\Desktop\\Skoltech\\Intro to RecSys\\FP\\preprocessing.py:210: SettingWithCopyWarning: \n",
      "A value is trying to be set on a copy of a slice from a DataFrame.\n",
      "Try using .loc[row_indexer,col_indexer] = value instead\n",
      "\n",
      "See the caveats in the documentation: https://pandas.pydata.org/pandas-docs/stable/user_guide/indexing.html#returning-a-view-versus-a-copy\n",
      "  data['iid'] = data[itemid].astype('category')\n",
      "C:\\Users\\Максимилиан\\Desktop\\Skoltech\\Intro to RecSys\\FP\\preprocessing.py:211: SettingWithCopyWarning: \n",
      "A value is trying to be set on a copy of a slice from a DataFrame.\n",
      "Try using .loc[row_indexer,col_indexer] = value instead\n",
      "\n",
      "See the caveats in the documentation: https://pandas.pydata.org/pandas-docs/stable/user_guide/indexing.html#returning-a-view-versus-a-copy\n",
      "  data['iid'] = data['iid'].cat.codes\n"
     ]
    }
   ],
   "source": [
    "train_val, data_description, train_matrix, train_matrix_indices, cold_users_matrix, cold_start_matrix_indices = \\\n",
    "preprocessing(interaction_df,user_ohe_df,item_ohe_df)"
   ]
  },
  {
   "cell_type": "code",
   "execution_count": 6,
   "id": "6db362d2",
   "metadata": {},
   "outputs": [],
   "source": [
    "lfm_config = dict(\n",
    "    no_components = 50,\n",
    "    loss = 'warp',\n",
    "    max_sampled = 3,\n",
    "    max_epochs = 100,\n",
    "    learning_schedule = 'adagrad',\n",
    "    user_alpha = 1e-3,\n",
    "    item_alpha = 1e-3,\n",
    ")\n"
   ]
  },
  {
   "cell_type": "code",
   "execution_count": 7,
   "id": "44972beb",
   "metadata": {},
   "outputs": [],
   "source": [
    "lfm = LightFM(\n",
    "        no_components=lfm_config['no_components'],\n",
    "        loss=lfm_config['loss'],\n",
    "        learning_schedule=lfm_config['learning_schedule'],\n",
    "        # learning_rate=\n",
    "        user_alpha=lfm_config['user_alpha'],\n",
    "        item_alpha=lfm_config['item_alpha'],\n",
    "        max_sampled=lfm_config['max_sampled'],\n",
    "        # random_state =\n",
    "    )"
   ]
  },
  {
   "cell_type": "code",
   "execution_count": 43,
   "id": "f6ad77e3",
   "metadata": {},
   "outputs": [
    {
     "name": "stderr",
     "output_type": "stream",
     "text": [
      "Epoch: 100%|██████████████████████████████████████████████████████████████████████████| 20/20 [34:55<00:00, 104.78s/it]\n"
     ]
    },
    {
     "data": {
      "text/plain": [
       "<lightfm.lightfm.LightFM at 0x1dca6e9b130>"
      ]
     },
     "execution_count": 43,
     "metadata": {},
     "output_type": "execute_result"
    }
   ],
   "source": [
    "lfm.fit(train_matrix,\n",
    "        user_features=data_description['user_features'],\n",
    "        item_features=data_description['item_features'],\n",
    "        epochs=20,\n",
    "        verbose = True)"
   ]
  },
  {
   "cell_type": "code",
   "execution_count": 24,
   "id": "3ff52b2d",
   "metadata": {},
   "outputs": [],
   "source": [
    "with open('LFMmodel.pkl', 'wb') as f:\n",
    "    pickle.dump(lfm, f)"
   ]
  },
  {
   "cell_type": "code",
   "execution_count": 17,
   "id": "27c2d8d7",
   "metadata": {},
   "outputs": [],
   "source": [
    "with open('LFMmodel.pkl', 'rb') as f:\n",
    "    lfm = pickle.load(f)"
   ]
  },
  {
   "cell_type": "code",
   "execution_count": 18,
   "id": "3a777e5b",
   "metadata": {},
   "outputs": [],
   "source": [
    "holdout = data_description['holdout_standard'][data_description['holdout_standard'].user_id.isin(train_val.user_id)]"
   ]
  },
  {
   "cell_type": "code",
   "execution_count": 19,
   "id": "f3577ff2",
   "metadata": {},
   "outputs": [],
   "source": [
    "def user_evaluate(user_id, preds, holdout,data_description):\n",
    "        n_items = data_description['n_items']\n",
    "        holdout_user = holdout[holdout.user_id == user_id]\n",
    "        predictions = preds[user_id]\n",
    "        hits_mask = predictions == holdout_user.item_id.values\n",
    "        # HR calculation\n",
    "        hr = np.mean(hits_mask.any(axis=0))\n",
    "        # MRR calculation\n",
    "        n_test_users = preds.shape[0]\n",
    "        hit_rank = np.where(hits_mask)[0] + 1.0\n",
    "\n",
    "        mrr = np.sum(1 / hit_rank)\n",
    "        # coverage calculation\n",
    "        cov = np.unique(preds).size / n_items\n",
    "        # ndcg\n",
    "        # NDCG\n",
    "        ndcg_per_user = 1.0 / np.log2(hit_rank + 1)\n",
    "        ndcg = np.sum(ndcg_per_user) / n_test_users\n",
    "\n",
    "        return hr, mrr, cov, ndcg"
   ]
  },
  {
   "cell_type": "code",
   "execution_count": 20,
   "id": "0b18fbcc",
   "metadata": {},
   "outputs": [],
   "source": [
    "topn = 20"
   ]
  },
  {
   "cell_type": "code",
   "execution_count": 21,
   "id": "3f4c6ec5",
   "metadata": {},
   "outputs": [],
   "source": [
    "dtype = 'i4'\n",
    "all_users = np.arange(data_description['n_users_train'], dtype=dtype)\n",
    "test_items = np.arange(data_description['n_items']).astype(dtype)\n",
    "item_index, user_index = np.meshgrid(test_items, all_users, copy=False)\n",
    "all_items = np.arange(data_description['n_items'], dtype=dtype)"
   ]
  },
  {
   "cell_type": "code",
   "execution_count": 22,
   "id": "2878e5e0",
   "metadata": {},
   "outputs": [],
   "source": [
    "def lightfm_scoring(lfm, preds, data_description, users_to_val = 10000):\n",
    "    dtype = 'i4'\n",
    "    all_users = np.arange(data_description['n_users_train'], dtype=dtype)\n",
    "    test_items = np.arange(data_description['n_items']).astype(dtype)\n",
    "    item_index, user_index = np.meshgrid(test_items, all_users, copy=False)\n",
    "    all_items = np.arange(data_description['n_items'], dtype=dtype)\n",
    "    \n",
    "    \n",
    "    for i in range(len(all_users)):\n",
    "        if i % 1000 == 0:\n",
    "            print(i)\n",
    "        if i == users_to_val:\n",
    "            break\n",
    "        score = lfm.predict(user_index[i].ravel(),item_ids = all_items.ravel(), \n",
    "                 user_features=data_description['user_features'],\n",
    "                 item_features=data_description['item_features'],\n",
    "                 num_threads = 4)\n",
    "        scores = np.expand_dims(score,axis=0)\n",
    "        scores_topn = topn_recommendations(scores,topn)\n",
    "        preds[i,:] = scores_topn\n",
    "    \n",
    "    \n",
    "    hr_full = []\n",
    "    mrr_full = []\n",
    "    cov_full = []\n",
    "    ndcg_full = []\n",
    "    for i in holdout.user_id.sort_values():\n",
    "        if i % 1000 == 0:\n",
    "            print(i)\n",
    "        if i == users_to_val:\n",
    "            break\n",
    "        predictions = preds[i]\n",
    "\n",
    "        hr, mrr, cov, ndcg = user_evaluate(i,preds, holdout)\n",
    "        hr_full.append(hr)\n",
    "        mrr_full.append(mrr)\n",
    "        cov_full.append(cov)\n",
    "        ndcg_full.append(ndcg)\n",
    "        \n",
    "        \n",
    "        \n",
    "    return np.array(hr_full), np.array(mrr_full), np.array(cov_full)\n",
    "    \n",
    "    \n",
    "    "
   ]
  },
  {
   "cell_type": "code",
   "execution_count": 23,
   "id": "53b15e18",
   "metadata": {},
   "outputs": [
    {
     "name": "stdout",
     "output_type": "stream",
     "text": [
      "0\n",
      "1000\n"
     ]
    },
    {
     "name": "stderr",
     "output_type": "stream",
     "text": [
      "\n",
      "KeyboardInterrupt\n",
      "\n"
     ]
    }
   ],
   "source": [
    "preds = np.zeros((all_users.shape[0],topn))\n",
    "\n",
    "for i in range(len(all_users)):\n",
    "    if i % 1000 == 0:\n",
    "        print(i)\n",
    "    if i == 10000:\n",
    "        break\n",
    "    score = lfm.predict(user_index[i].ravel(),item_ids = all_items.ravel(), \n",
    "             user_features=data_description['user_features'],\n",
    "             item_features=data_description['item_features'],\n",
    "             num_threads = 4)\n",
    "    scores = np.expand_dims(score,axis=0)\n",
    "    scores_topn = topn_recommendations(scores,topn)\n",
    "    preds[i,:] = scores_topn"
   ]
  },
  {
   "cell_type": "code",
   "execution_count": 38,
   "id": "963fe1ea",
   "metadata": {},
   "outputs": [
    {
     "data": {
      "text/plain": [
       "array([14633., 13283.,  9307.,  3748., 13639.,  3337.,  8684.,  2181.,\n",
       "        6753.,   128., 12367., 10023.,  4401., 10869.,   752., 10852.,\n",
       "       12871.,  3712.,  3872.,   241.])"
      ]
     },
     "execution_count": 38,
     "metadata": {},
     "output_type": "execute_result"
    }
   ],
   "source": [
    "preds[4]"
   ]
  },
  {
   "cell_type": "code",
   "execution_count": 39,
   "id": "50653a02",
   "metadata": {},
   "outputs": [
    {
     "data": {
      "text/html": [
       "<div>\n",
       "<style scoped>\n",
       "    .dataframe tbody tr th:only-of-type {\n",
       "        vertical-align: middle;\n",
       "    }\n",
       "\n",
       "    .dataframe tbody tr th {\n",
       "        vertical-align: top;\n",
       "    }\n",
       "\n",
       "    .dataframe thead th {\n",
       "        text-align: right;\n",
       "    }\n",
       "</style>\n",
       "<table border=\"1\" class=\"dataframe\">\n",
       "  <thead>\n",
       "    <tr style=\"text-align: right;\">\n",
       "      <th></th>\n",
       "      <th>user_id</th>\n",
       "      <th>item_id</th>\n",
       "      <th>last_watch_dt</th>\n",
       "      <th>total_dur</th>\n",
       "      <th>watched_pct</th>\n",
       "      <th>last_watch_dt_ts</th>\n",
       "    </tr>\n",
       "  </thead>\n",
       "  <tbody>\n",
       "    <tr>\n",
       "      <th>114632</th>\n",
       "      <td>4</td>\n",
       "      <td>4204</td>\n",
       "      <td>2021-07-02</td>\n",
       "      <td>5799</td>\n",
       "      <td>97</td>\n",
       "      <td>1625184000</td>\n",
       "    </tr>\n",
       "  </tbody>\n",
       "</table>\n",
       "</div>"
      ],
      "text/plain": [
       "        user_id  item_id last_watch_dt  total_dur  watched_pct  \\\n",
       "114632        4     4204    2021-07-02       5799           97   \n",
       "\n",
       "        last_watch_dt_ts  \n",
       "114632        1625184000  "
      ]
     },
     "execution_count": 39,
     "metadata": {},
     "output_type": "execute_result"
    }
   ],
   "source": [
    "holdout[holdout['user_id'] == 4]"
   ]
  },
  {
   "cell_type": "code",
   "execution_count": 11,
   "id": "75221453",
   "metadata": {},
   "outputs": [
    {
     "ename": "NameError",
     "evalue": "name 'scores_topn' is not defined",
     "output_type": "error",
     "traceback": [
      "\u001b[1;31m---------------------------------------------------------------------------\u001b[0m",
      "\u001b[1;31mNameError\u001b[0m                                 Traceback (most recent call last)",
      "Cell \u001b[1;32mIn[11], line 1\u001b[0m\n\u001b[1;32m----> 1\u001b[0m \u001b[43mscores_topn\u001b[49m\n",
      "\u001b[1;31mNameError\u001b[0m: name 'scores_topn' is not defined"
     ]
    }
   ],
   "source": [
    "scores_topn"
   ]
  },
  {
   "cell_type": "code",
   "execution_count": 29,
   "id": "88bad3d0",
   "metadata": {},
   "outputs": [],
   "source": [
    "def lightfm_eval(preds,holdout,data_description, users_to_eval = 10000):\n",
    "\n",
    "    hr_full = []\n",
    "    mrr_full = []\n",
    "    cov_full = []\n",
    "    ndcg_full = []\n",
    "    for count,i in enumerate(holdout.user_id.sort_values()):\n",
    "        if count % 100 == 0:\n",
    "            print(count,i)\n",
    "        if count == users_to_eval:\n",
    "            break\n",
    "       # predictions = preds[i]\n",
    "\n",
    "        hr, mrr, cov, ndcg = user_evaluate(i,preds, holdout, data_description)\n",
    "        hr_full.append(hr)\n",
    "        mrr_full.append(mrr)\n",
    "        cov_full.append(cov)\n",
    "        ndcg_full.append(ndcg)\n",
    "    return np.array(hr_full), np.array(mrr_full), np.array(cov_full),  np.array(ndcg_full)"
   ]
  },
  {
   "cell_type": "code",
   "execution_count": 20,
   "id": "dad4c97f",
   "metadata": {},
   "outputs": [],
   "source": [
    "hr = np.array(hr_full)\n",
    "mrr = np.array(mrr_full)\n",
    "cov = np.array(cov_full) \n",
    "ndcg = np.array(ndcg_full) "
   ]
  },
  {
   "cell_type": "code",
   "execution_count": 21,
   "id": "e8222fae",
   "metadata": {},
   "outputs": [
    {
     "name": "stdout",
     "output_type": "stream",
     "text": [
      "HR mean: 0.26378725682669996\n",
      "MRR mean: 0.04384547094028249\n",
      "Coverage mean: 0.0017661843624753753\n",
      "NDCG mean: 2.553060354700773e-07\n"
     ]
    }
   ],
   "source": [
    "print('HR mean:',hr.mean())\n",
    "print('MRR mean:',mrr.mean())\n",
    "print('Coverage mean:',cov.mean())\n",
    "print('NDCG mean:',ndcg.mean())"
   ]
  },
  {
   "cell_type": "markdown",
   "id": "3af81aed",
   "metadata": {},
   "source": [
    "# Coldstart"
   ]
  },
  {
   "cell_type": "code",
   "execution_count": 13,
   "id": "c6c905ff",
   "metadata": {},
   "outputs": [],
   "source": [
    "def cold_start_preds(model,user_matrix):\n",
    "    item_feature_bias, item_feature_factors = model.get_item_representations()\n",
    "    item_factors_inv = np.linalg.pinv(item_feature_factors[:,:])\n",
    "    user_feature_bias, user_feature_factors = model.get_user_representations()\n",
    "    \n",
    "    user_factors = (item_factors_inv @ user_matrix.T).T\n",
    "    predictions = user_factors @ item_factors.T + item_bias\n",
    "  \n",
    "    return predictions"
   ]
  },
  {
   "cell_type": "code",
   "execution_count": 14,
   "id": "1c9e82f3",
   "metadata": {},
   "outputs": [],
   "source": [
    "item_feature_bias, item_feature_factors = lfm.get_item_representations()\n",
    "item_factors_inv = np.linalg.pinv(item_feature_factors[:,:])\n",
    "user_feature_bias, user_feature_factors = lfm.get_user_representations()"
   ]
  },
  {
   "cell_type": "code",
   "execution_count": 15,
   "id": "f121104d",
   "metadata": {},
   "outputs": [],
   "source": [
    "item_features = data_description['item_features']"
   ]
  },
  {
   "cell_type": "code",
   "execution_count": 16,
   "id": "63bcd76b",
   "metadata": {},
   "outputs": [],
   "source": [
    "item_factors = (item_features @ item_feature_factors)\n",
    "item_bias = (item_features @ item_feature_bias)\n",
    "item_factors_inv = np.linalg.pinv(item_factors)"
   ]
  },
  {
   "cell_type": "code",
   "execution_count": 9,
   "id": "c645d86d",
   "metadata": {},
   "outputs": [
    {
     "data": {
      "text/plain": [
       "{'users': 'user_id',\n",
       " 'items': 'item_id',\n",
       " 'feedback': 'watched_pct',\n",
       " 'n_users_train': 362088,\n",
       " 'n_items': 14721,\n",
       " 'user_features': <362088x19 sparse matrix of type '<class 'numpy.uint8'>'\n",
       " \twith 1448352 stored elements in Compressed Sparse Row format>,\n",
       " 'item_features': <14721x8588 sparse matrix of type '<class 'numpy.uint8'>'\n",
       " \twith 103047 stored elements in Compressed Sparse Row format>,\n",
       " 'holdout_standard':          user_id  item_id last_watch_dt  total_dur  watched_pct  \\\n",
       " 1807000   372961     4379    2021-03-13         58            1   \n",
       " 4022024   542099     2757    2021-03-13       6496          100   \n",
       " 4777864   881803    13463    2021-03-13         75            1   \n",
       " 5224013   280001     1215    2021-03-13        246            4   \n",
       " 745212    936870       23    2021-03-13      11604          100   \n",
       " ...          ...      ...           ...        ...          ...   \n",
       " 240772    642282     9166    2021-08-22       1044           17   \n",
       " 1022745   829290      993    2021-08-22       2312           40   \n",
       " 3382625    99239     9604    2021-08-22         89            0   \n",
       " 1471916   909446    12367    2021-08-22         33            1   \n",
       " 1408462  1006401    11383    2021-08-22          8            0   \n",
       " \n",
       "          last_watch_dt_ts  \n",
       " 1807000        1615593600  \n",
       " 4022024        1615593600  \n",
       " 4777864        1615593600  \n",
       " 5224013        1615593600  \n",
       " 745212         1615593600  \n",
       " ...                   ...  \n",
       " 240772         1629590400  \n",
       " 1022745        1629590400  \n",
       " 3382625        1629590400  \n",
       " 1471916        1629590400  \n",
       " 1408462        1629590400  \n",
       " \n",
       " [619421 rows x 6 columns],\n",
       " 'holdout_cs':          user_id  item_id last_watch_dt  total_dur  watched_pct  \\\n",
       " 3483688   800566     3224    2021-03-13       5028           58   \n",
       " 4935047   951519     1498    2021-03-13      12474          100   \n",
       " 1841352   211113     1499    2021-03-13       5496           96   \n",
       " 1918657   607716     3129    2021-03-13          2            0   \n",
       " 23960     753089     4805    2021-03-13        488           10   \n",
       " ...          ...      ...           ...        ...          ...   \n",
       " 724450    482825      791    2021-08-22       8102          100   \n",
       " 724153    395127     2317    2021-08-22       7448          100   \n",
       " 5389802   627333     2701    2021-08-22         89            1   \n",
       " 5250566   361946     4545    2021-08-22       8395          100   \n",
       " 1966758   194932     2984    2021-08-22         52            0   \n",
       " \n",
       "          last_watch_dt_ts  \n",
       " 3483688        1615593600  \n",
       " 4935047        1615593600  \n",
       " 1841352        1615593600  \n",
       " 1918657        1615593600  \n",
       " 23960          1615593600  \n",
       " ...                   ...  \n",
       " 724450         1629590400  \n",
       " 724153         1629590400  \n",
       " 5389802        1629590400  \n",
       " 5250566        1629590400  \n",
       " 1966758        1629590400  \n",
       " \n",
       " [124867 rows x 6 columns],\n",
       " 'cold_start_test':          user_id  item_id last_watch_dt  total_dur  watched_pct  \\\n",
       " 2          74550     2999    2021-05-09         10            0   \n",
       " 4         109675     4008    2021-04-30       6725          100   \n",
       " 8          73663      620    2021-06-13      26246           75   \n",
       " 29        121580     2437    2021-06-07       8413          100   \n",
       " 30        120339     2617    2021-08-12       5033           95   \n",
       " ...          ...      ...           ...        ...          ...   \n",
       " 5476192    82642     5802    2021-06-20       9846          100   \n",
       " 5476202    64084     2043    2021-05-23        191            3   \n",
       " 5476227    13661     4095    2021-07-16       8174          100   \n",
       " 5476228    55108     3884    2021-05-12       8681          100   \n",
       " 5476250    36445     1904    2021-08-15       3921           45   \n",
       " \n",
       "          last_watch_dt_ts  \n",
       " 2              1620518400  \n",
       " 4              1619740800  \n",
       " 8              1623542400  \n",
       " 29             1623024000  \n",
       " 30             1628726400  \n",
       " ...                   ...  \n",
       " 5476192        1624147200  \n",
       " 5476202        1621728000  \n",
       " 5476227        1626393600  \n",
       " 5476228        1620777600  \n",
       " 5476250        1628985600  \n",
       " \n",
       " [301313 rows x 6 columns]}"
      ]
     },
     "execution_count": 9,
     "metadata": {},
     "output_type": "execute_result"
    }
   ],
   "source": [
    "data_description"
   ]
  },
  {
   "cell_type": "code",
   "execution_count": 18,
   "id": "33df1612",
   "metadata": {},
   "outputs": [],
   "source": [
    "cu_user = cold_users_matrix[:20000,:]"
   ]
  },
  {
   "cell_type": "code",
   "execution_count": 19,
   "id": "0c15c4db",
   "metadata": {},
   "outputs": [],
   "source": [
    "user_factors = (item_factors_inv @ cu_user.T).T\n",
    "predictions = user_factors @ item_factors.T + item_bias"
   ]
  },
  {
   "cell_type": "code",
   "execution_count": 20,
   "id": "0eddd259",
   "metadata": {},
   "outputs": [],
   "source": [
    "holdout_cs = data_description['holdout_cs']"
   ]
  },
  {
   "cell_type": "code",
   "execution_count": 21,
   "id": "40cb5741",
   "metadata": {},
   "outputs": [],
   "source": [
    "scores_topn = topn_recommendations(predictions,topn)"
   ]
  },
  {
   "cell_type": "code",
   "execution_count": 30,
   "id": "1a0de930",
   "metadata": {},
   "outputs": [
    {
     "name": "stdout",
     "output_type": "stream",
     "text": [
      "0 10\n",
      "100 894\n",
      "200 1863\n",
      "300 2821\n",
      "400 3804\n",
      "500 4589\n",
      "600 5377\n",
      "700 6214\n",
      "800 7124\n",
      "900 8061\n",
      "1000 9035\n",
      "1100 9834\n",
      "1200 10814\n",
      "1300 11591\n",
      "1400 12357\n",
      "1500 13231\n",
      "1600 14033\n",
      "1700 14901\n",
      "1800 15760\n",
      "1900 16746\n",
      "2000 17627\n"
     ]
    }
   ],
   "source": [
    "hr, mrr, cov, ndcg = lightfm_eval(scores_topn,holdout_cs,data_description, users_to_eval = 2000)"
   ]
  },
  {
   "cell_type": "code",
   "execution_count": 31,
   "id": "2fa49dd3",
   "metadata": {},
   "outputs": [
    {
     "name": "stdout",
     "output_type": "stream",
     "text": [
      "HR mean: 0.002\n",
      "MRR mean: 0.00088125\n",
      "Coverage mean: 0.1665647714149854\n",
      "NDCG mean: 5.656082757310562e-08\n"
     ]
    }
   ],
   "source": [
    "print('HR mean:',hr.mean())\n",
    "print('MRR mean:',mrr.mean())\n",
    "print('Coverage mean:',cov.mean())\n",
    "print('NDCG mean:',ndcg.mean())"
   ]
  },
  {
   "cell_type": "code",
   "execution_count": null,
   "id": "12f129db",
   "metadata": {},
   "outputs": [],
   "source": []
  }
 ],
 "metadata": {
  "kernelspec": {
   "display_name": "Python 3 (ipykernel)",
   "language": "python",
   "name": "python3"
  },
  "language_info": {
   "codemirror_mode": {
    "name": "ipython",
    "version": 3
   },
   "file_extension": ".py",
   "mimetype": "text/x-python",
   "name": "python",
   "nbconvert_exporter": "python",
   "pygments_lexer": "ipython3",
   "version": "3.9.13"
  }
 },
 "nbformat": 4,
 "nbformat_minor": 5
}
